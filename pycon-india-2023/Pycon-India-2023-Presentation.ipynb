{
 "cells": [
  {
   "cell_type": "markdown",
   "id": "628c546f-e21c-4a5d-94a7-f6e33fe5ccd1",
   "metadata": {
    "editable": true,
    "slideshow": {
     "slide_type": "slide"
    },
    "tags": []
   },
   "source": [
    "<img src=\"./../images/data_munging_pycon_with_text.png\" width=\"95%\" align=\"center\" alt=\"Data Wrangling with Python, A Workshop for PyCon India 2023\" />  "
   ]
  },
  {
   "cell_type": "markdown",
   "id": "c003657d-017f-4036-a8b2-da805d5c3cf1",
   "metadata": {
    "editable": true,
    "slideshow": {
     "slide_type": "slide"
    },
    "tags": []
   },
   "source": [
    "# Data Munging with Python\n",
    "\n",
    "**Shaurya Agarwal**"
   ]
  },
  {
   "cell_type": "markdown",
   "id": "ec80f9f8-0f43-4cc3-9dc4-ee7e1ecd47e6",
   "metadata": {
    "editable": true,
    "slideshow": {
     "slide_type": "slide"
    },
    "tags": []
   },
   "source": [
    "**Versatility**. / ˌvɜr səˈtɪl ɪ ti / noun:   \n",
    "ability to adapt or be adapted to many different functions or activities."
   ]
  },
  {
   "cell_type": "markdown",
   "id": "670eb636-d2ba-4e79-833f-a3eb0111b812",
   "metadata": {
    "editable": true,
    "slideshow": {
     "slide_type": "slide"
    },
    "tags": []
   },
   "source": [
    "20+ years  \n",
    "I consistently hear:  \n",
    "##### <font color='red'>\"Tech's changing so fast, *it's hard to keep up*...\"</font>"
   ]
  },
  {
   "cell_type": "markdown",
   "id": "2553aa58-6f87-44a3-9a36-e25bc1b4d78f",
   "metadata": {
    "editable": true,
    "slideshow": {
     "slide_type": "slide"
    },
    "tags": []
   },
   "source": [
    "Do you too?"
   ]
  },
  {
   "cell_type": "markdown",
   "id": "27d84f0c-a4de-4d3f-b6ff-806d8866d8d7",
   "metadata": {
    "editable": true,
    "slideshow": {
     "slide_type": "slide"
    },
    "tags": []
   },
   "source": [
    "# @me\n",
    "\n",
    "* @shauryashaurya on LinkedIn, Facebook.\n",
    "* @shaurya.shaurya on Instagram \n",
    "    * (someone plucked shauryashaurya from under me)\n",
    "* Two decades\n",
    "* work at Barnes and Noble LoudCloud\n",
    "* work on Data, Cloud, Data + Cloud\n",
    "<br/>"
   ]
  },
  {
   "cell_type": "markdown",
   "id": "959ce1bc-33c6-4c2a-9a0a-30d86b58faaa",
   "metadata": {
    "editable": true,
    "slideshow": {
     "slide_type": "slide"
    },
    "tags": []
   },
   "source": [
    "#### Also...\n",
    "* I write. Plays, screenplays, short stories etc.\n",
    "* Got to shoot and produce a feature film last year!\n",
    "    \n",
    "![8DownToofaanMail](./../images/Eight-Down-Toofaan-Mail-2022-512.jpg)"
   ]
  },
  {
   "cell_type": "code",
   "execution_count": 1,
   "id": "0dd10328-6069-41b1-bca3-22007ff41b50",
   "metadata": {
    "editable": true,
    "slideshow": {
     "slide_type": "slide"
    },
    "tags": []
   },
   "outputs": [
    {
     "data": {
      "image/jpeg": "[encoded data removed]",
      "text/html": [
       "\n",
       "        <iframe\n",
       "            width=\"560\"\n",
       "            height=\"315\"\n",
       "            src=\"https://www.youtube.com/embed/KthvCCE2Vrk\"\n",
       "            frameborder=\"0\"\n",
       "            allowfullscreen\n",
       "            \n",
       "        ></iframe>\n",
       "        "
      ],
      "text/plain": [
       "<IPython.lib.display.YouTubeVideo at 0x16185e4bf10>"
      ]
     },
     "execution_count": 1,
     "metadata": {},
     "output_type": "execute_result"
    }
   ],
   "source": [
    "from IPython.display import YouTubeVideo\n",
    "YouTubeVideo('KthvCCE2Vrk', width=560, height=315)"
   ]
  },
  {
   "cell_type": "markdown",
   "id": "fd71f115-5583-4c8d-86a8-21ae28a2bfd6",
   "metadata": {
    "editable": true,
    "slideshow": {
     "slide_type": "slide"
    },
    "tags": []
   },
   "source": [
    "Needless to say, I love films.\n",
    "\n",
    "Hence the [MovieLens](https://grouplens.org/datasets/movielens/) Dataset. :)    \n",
    "That, and the fact that is easy to grok and super interesting! "
   ]
  },
  {
   "cell_type": "markdown",
   "id": "58aeaeee-4dc7-4dc3-b48c-d45e26bbbf9a",
   "metadata": {
    "editable": true,
    "slideshow": {
     "slide_type": "slide"
    },
    "tags": []
   },
   "source": [
    "### ...back to that \"<font color='red'>*tech changes so fast...*</font>\" bit\n",
    "I always found it odd when folks said it.  \n",
    "...and couldn't put down why I didn't feel so overwhelmed.  "
   ]
  },
  {
   "cell_type": "markdown",
   "id": "7fbb887a-9f54-4ecd-9b1b-141303f0b641",
   "metadata": {
    "editable": true,
    "slideshow": {
     "slide_type": "slide"
    },
    "tags": []
   },
   "source": [
    "Then I got to collaborate on a play...  \n",
    "Antoine de Saint-Exupéry's **\"The Little Prince\"**  \n",
    "  \n",
    "![The Little Prince](http://www5e.biglobe.ne.jp/~p_prince/le_petit_prince_club_prive/img/book/The%20Little%20Prince%206th.jpg)"
   ]
  },
  {
   "cell_type": "markdown",
   "id": "0aa5fa16-8490-42e4-a8d7-1570183a22f2",
   "metadata": {
    "editable": true,
    "slideshow": {
     "slide_type": "slide"
    },
    "tags": []
   },
   "source": [
    "...and when I read it again, I came across this quote:\n",
    "\n",
    "#### \"If you want to build a ship,  \n",
    "#### don't drum up people to collect wood and  \n",
    "#### don't assign them tasks and work, but rather   \n",
    "#### **teach them to** <font color='red'>long for the endless immensity of the sea.</font>\"   \n",
    "#### -  Antoine de Saint Exupéry  "
   ]
  },
  {
   "cell_type": "markdown",
   "id": "e921d425-6ce1-4170-83c1-65ae51e9c143",
   "metadata": {
    "editable": true,
    "slideshow": {
     "slide_type": "slide"
    },
    "tags": []
   },
   "source": [
    "#### *...teach them to long for the endless immensity of the sea.*"
   ]
  },
  {
   "cell_type": "markdown",
   "id": "b50be660-3fbd-4319-8fcd-7ef8f34ae657",
   "metadata": {
    "editable": true,
    "slideshow": {
     "slide_type": "slide"
    },
    "tags": []
   },
   "source": [
    "This workshop is my attempt at that.  "
   ]
  },
  {
   "cell_type": "markdown",
   "id": "fcb9aa50-e256-4a4e-835a-11f1e61e98b9",
   "metadata": {
    "editable": true,
    "slideshow": {
     "slide_type": "slide"
    },
    "tags": []
   },
   "source": [
    "See, we get too tangled up in the technology,  \n",
    "not enough in the *problems it's solving*.  "
   ]
  },
  {
   "cell_type": "markdown",
   "id": "2ee24e0d-2638-412b-8b63-a3ecb755420f",
   "metadata": {
    "editable": true,
    "slideshow": {
     "slide_type": "slide"
    },
    "tags": []
   },
   "source": [
    "If we get interested in the data,   \n",
    "ideas within vs. the data engine...   \n",
    "  \n",
    "The complexities of a  \n",
    "new technology/framework/engine  \n",
    "*become easy to handle*.  "
   ]
  },
  {
   "cell_type": "markdown",
   "id": "6316ca66-c51c-41da-a7a6-149deb4bb1ec",
   "metadata": {
    "editable": true,
    "slideshow": {
     "slide_type": "slide"
    },
    "tags": []
   },
   "source": [
    "When we long for the *sea*,  \n",
    "the *ship* becomes the easy part...  "
   ]
  },
  {
   "cell_type": "markdown",
   "id": "8bcffe5c-554f-48e9-8c57-358f0d7e1695",
   "metadata": {
    "editable": true,
    "slideshow": {
     "slide_type": "slide"
    },
    "tags": []
   },
   "source": [
    "# Approach\n",
    "\n",
    "* Here we'll start with plain old Python\n",
    "* Then gradually cover how each different data engine tries to do better"
   ]
  },
  {
   "cell_type": "markdown",
   "id": "2f6964ff-04c5-4fea-ac26-a578b3e38f4d",
   "metadata": {
    "editable": true,
    "slideshow": {
     "slide_type": "subslide"
    },
    "tags": []
   },
   "source": [
    "## What we'll cover\n",
    "1. Baseline - **Core Python Collections**\n",
    "1. How **NumPy** improves things\n",
    "1. Moving on to *DataFrames* in **Pandas**\n",
    "1. How **Spark (*pySpark*)** enables *data*-parallel distributed out-of-core processing\n",
    "1. How **Dask** does, *task*-parallel distributed out-of-core processing\n",
    "1. (time permits) How **Polars** does **Pandas** but bigger, faster etc."
   ]
  },
  {
   "cell_type": "markdown",
   "id": "10f8ab51-9ada-434c-8d27-81e3d597489b",
   "metadata": {
    "editable": true,
    "slideshow": {
     "slide_type": "subslide"
    },
    "tags": []
   },
   "source": [
    "### Honestly\n",
    "Each of the tech that we'll discuss,  \n",
    "have more interesting features than can be covered in a few hours.   \n",
    "  \n",
    "Typically this workshop runs as a 3 to 5 day event.  \n",
    "  \n",
    "So, ... "
   ]
  },
  {
   "cell_type": "markdown",
   "id": "4da70a5b-8cd3-44a6-8c48-1d0b73146b3a",
   "metadata": {
    "editable": true,
    "slideshow": {
     "slide_type": "subslide"
    },
    "tags": []
   },
   "source": [
    "## What we'll not cover in this PyCon 2023 session  \n",
    "1. Specific scenarios like functools, itertools, time-series or categorical data\n",
    "2. Streaming\n",
    "3. Data Visualization\n",
    "4. Database systems / engines\n",
    "5. Optimization\n",
    "6. Infrastructure / deployment\n",
    "7. Data Pipelines\n",
    "8. Other sundry bits and applesauce\n",
    "\n",
    "All of this becomes a part of that 3 to 5 day thing.  \n",
    "We just have 3 hours. :)  "
   ]
  },
  {
   "cell_type": "markdown",
   "id": "8403a88b-184e-4f6e-893d-36a415dbb991",
   "metadata": {
    "editable": true,
    "slideshow": {
     "slide_type": "slide"
    },
    "tags": []
   },
   "source": [
    "# Interact!\n",
    "\n",
    "* Ask questions here, even tangents are welcome\n",
    "* Put up issues, questions, thoughts up as [issues](https://github.com/shauryashaurya/learn-data-munging/issues) directly on the GitHub repo  \n",
    "    - The stuff we could not cover here, I'll attend to it in the issues!\n",
    "* Fork the repo, submit a [pull request](https://github.com/shauryashaurya/learn-data-munging/pulls)!\n",
    "\n",
    "This workshop is continually evolving. I will keep adding new notebooks, topics, exercises etc. as well as explore upcoming frameworks/libraries/engines. Watch this space!"
   ]
  },
  {
   "cell_type": "markdown",
   "id": "4f91a02e-dd06-40fa-97ca-9b61eadca737",
   "metadata": {
    "editable": true,
    "slideshow": {
     "slide_type": "slide"
    },
    "tags": []
   },
   "source": [
    "# Let's GO!\n",
    "\n",
    "You can start by accessing the repo on GitHub\n",
    "\n",
    "Link: https://github.com/shauryashaurya/learn-data-munging\n",
    "\n",
    "GitHub -> Search for \"*shauryashaurya*\" -> ```learn-data-munging```"
   ]
  },
  {
   "cell_type": "markdown",
   "id": "bce30cc8-36e4-4d6d-b722-b4f78362b42d",
   "metadata": {
    "editable": true,
    "slideshow": {
     "slide_type": "slide"
    },
    "tags": []
   },
   "source": [
    "# Python\n",
    "\n",
    "* Represents 2D data row-wise in memory, store an entire row, then the next and the next and so on...\n",
    "* Each row an ```Object``` - all the functions and metadata that Python adds (which in the specific case of Data Analysis *may* be an overhead)"
   ]
  },
  {
   "cell_type": "markdown",
   "id": "24cc655d-83cc-4d0f-8371-1c65b54eec69",
   "metadata": {
    "editable": true,
    "slideshow": {
     "slide_type": "subslide"
    },
    "tags": []
   },
   "source": [
    "![Row-Wise Representation of Data](./../images/Row-Wise-Representation.drawio.png)"
   ]
  },
  {
   "cell_type": "markdown",
   "id": "e7b73c40-267d-43c6-b6a6-52c222b92a8f",
   "metadata": {
    "editable": true,
    "slideshow": {
     "slide_type": "subslide"
    },
    "tags": []
   },
   "source": [
    "*  Operations that retrieve all the data for a given object (the entire row) are fast, but these whole-row operations are generally rare.\n",
    "*  Still with Collections, Itertools and Functools - Python is a lot of fun!"
   ]
  },
  {
   "cell_type": "markdown",
   "id": "781fb7c8-9ad4-40f1-b975-d1d05d9760e1",
   "metadata": {
    "editable": true,
    "slideshow": {
     "slide_type": "slide"
    },
    "tags": []
   },
   "source": [
    "# Numpy\n",
    "\n",
    "* Represent data row-wise (C-Order) or column-wise(Fortran-Order)\n",
    "* Column Order - all values of a column are contiguous, then values of the next column and the next and so on..."
   ]
  },
  {
   "cell_type": "markdown",
   "id": "ab75b96a-3423-4e45-8015-271dafabedce",
   "metadata": {
    "editable": true,
    "slideshow": {
     "slide_type": "subslide"
    },
    "tags": []
   },
   "source": [
    "![Row-Wise Representation of Data](./../images/MemoryRepresentation.drawio.png)"
   ]
  },
  {
   "cell_type": "markdown",
   "id": "25125e89-0512-48a6-ae40-4b59980e6aa0",
   "metadata": {
    "editable": true,
    "slideshow": {
     "slide_type": "subslide"
    },
    "tags": []
   },
   "source": [
    "* Operations that retrieve all the data for a given object (the entire row) are slower.\n",
    "* However, for most of our needs - we just want one column or two. For e.g., if we need the average rating of a movie? or if we just wanted to find out the maximum salary in an employee table (from the salary column)?\n",
    "    - This approach is ***FAST!***\n",
    "    - We'll cover this in greater detail in the Polars notebook\n",
    "* Numpy also uses uniform data types - no more Python overhead - that speeds things up too."
   ]
  },
  {
   "cell_type": "markdown",
   "id": "1f8ae57b-859d-41c8-b12f-fa9904d9f34a",
   "metadata": {
    "editable": true,
    "slideshow": {
     "slide_type": "slide"
    },
    "tags": []
   },
   "source": [
    "# Pandas\n",
    "* Based on Numpy arrays, borrows from **R**'s data ```plyr``` module\n",
    "* Split-Apply-Combine approach\n",
    "* 2.0 can use the **Apache Arrow** backend too - we'll talk about this later"
   ]
  },
  {
   "cell_type": "markdown",
   "id": "da2923ba-0887-433a-8bad-b93b97e3234c",
   "metadata": {
    "editable": true,
    "slideshow": {
     "slide_type": "subslide"
    },
    "tags": []
   },
   "source": [
    "* Columnar representation in memory\n",
    "* DataFrames grammar to ease data analysis"
   ]
  },
  {
   "cell_type": "markdown",
   "id": "d0bb5bcc-1855-4cdf-a2c6-0d668531904c",
   "metadata": {
    "editable": true,
    "slideshow": {
     "slide_type": "slide"
    },
    "tags": []
   },
   "source": [
    "# Spark\n",
    "\n",
    "* Distributes data across multiple compute nodes\n",
    "* Row-wise representation\n",
    "* Currently the most feature-rich among distributed engines\n",
    "* Catalyst and Tungsten"
   ]
  },
  {
   "cell_type": "markdown",
   "id": "4400c2c9-2d52-4ad4-8fc5-4da302a994ea",
   "metadata": {
    "editable": true,
    "slideshow": {
     "slide_type": "subslide"
    },
    "tags": []
   },
   "source": [
    "Spark has evolved rapidly since its inception.  \n",
    "2 performance optimization components: **Catalyst** optimizer and **Tungsten** execution engine.  "
   ]
  },
  {
   "cell_type": "markdown",
   "id": "e8849304-7565-4675-9145-8d3ed347ac3d",
   "metadata": {
    "editable": true,
    "slideshow": {
     "slide_type": "subslide"
    },
    "tags": []
   },
   "source": [
    "#### **Catalyst Optimizer**:\n",
    "\n",
    "Extensible query optimizer framework introduced in Spark SQL.  \n",
    "Primary purpose is to optimize SQL queries in Spark.  \n",
    "Also used to optimize DataFrame API operations, which are logically represented as trees of logical operators.  \n",
    "\n",
    "Here's what Catalyst does:"
   ]
  },
  {
   "cell_type": "markdown",
   "id": "482db872-61e6-42ee-83af-0ec6b08e915c",
   "metadata": {
    "editable": true,
    "slideshow": {
     "slide_type": "subslide"
    },
    "tags": []
   },
   "source": [
    "##### **Catalyst Optimizer**: *Logical Optimization*  \n",
    "This step involves rule-based optimizations on the logical plan.  \n",
    "These rules include predicate pushdown, constant folding, and other traditional database optimization rules.  "
   ]
  },
  {
   "cell_type": "markdown",
   "id": "d801a49b-c715-49e5-b6e7-dcf44752e066",
   "metadata": {
    "editable": true,
    "slideshow": {
     "slide_type": "subslide"
    },
    "tags": []
   },
   "source": [
    "##### **Catalyst Optimizer**: *Physical Planning*  \n",
    "Once the logical optimizations are done, Catalyst generates multiple potential physical plans from the logical plans.  \n",
    "It then chooses the most optimal physical plan based on a cost model."
   ]
  },
  {
   "cell_type": "markdown",
   "id": "a653ac0d-1070-4509-87ea-bd15b504b89b",
   "metadata": {
    "editable": true,
    "slideshow": {
     "slide_type": "subslide"
    },
    "tags": []
   },
   "source": [
    "##### **Catalyst Optimizer**: *Code Generation*  \n",
    "To achieve better performance, Catalyst generates bytecode on the fly for the chosen physical plan, converting it into compact JVM bytecode.  \n",
    "[Leverages](https://github.com/apache/spark/blob/master/licenses-binary/LICENSE-janino.txt) [`Janino`](http://janino-compiler.github.io/janino/) and removes much of the overhead that comes from interpreting high-level code."
   ]
  },
  {
   "cell_type": "markdown",
   "id": "02555082-0c09-43f1-9c84-12a23925daf8",
   "metadata": {
    "editable": true,
    "slideshow": {
     "slide_type": "subslide"
    },
    "tags": []
   },
   "source": [
    "#### **Tungsten Execution Engine**:\n",
    "Introduced in Spark 1.4.  \n",
    "Focuses on improving the efficiency of memory and CPU for Spark computations.  \n",
    "Goals are to improve the hardware efficiency of Spark jobs and push performance closer to the limits of modern hardware."
   ]
  },
  {
   "cell_type": "markdown",
   "id": "c46c7888-f4e0-44d5-b161-17f0cdba580f",
   "metadata": {
    "editable": true,
    "slideshow": {
     "slide_type": "subslide"
    },
    "tags": []
   },
   "source": [
    "##### **Tungsten Execution Engine**: *Memory Management and Binary Processing*  \n",
    "Spark traditionally relied on the JVM's object model and garbage collection, which are not optimized for big-data needs.  \n",
    "Tungsten manages memory explicitly and uses off-heap memory to eliminate the overhead of JVM object model and GC.  \n",
    "It represents data using a binary format, enabling efficient operations without deserializing the data.  "
   ]
  },
  {
   "cell_type": "markdown",
   "id": "bb263a7c-0ab3-423c-b761-c5cd043422c9",
   "metadata": {
    "editable": true,
    "slideshow": {
     "slide_type": "subslide"
    },
    "tags": []
   },
   "source": [
    "##### **Tungsten Execution Engine**: *Cache-aware computation*  \n",
    "Tungsten optimizes the layout of data in memory for better cache locality, allowing operations on this data to be performed more quickly."
   ]
  },
  {
   "cell_type": "markdown",
   "id": "8de88590-5f53-4fd8-87dd-4420855e128f",
   "metadata": {
    "editable": true,
    "slideshow": {
     "slide_type": "subslide"
    },
    "tags": []
   },
   "source": [
    "##### **Tungsten Execution Engine**: *Code Generation*  \n",
    "Similar to Catalyst, Tungsten generates bytecode for query execution. However, while Catalyst focuses on optimizing SQL operations, Tungsten's code generation aims to optimize the lower-level physical operations (e.g., sorting, shuffling)."
   ]
  },
  {
   "cell_type": "markdown",
   "id": "888a4d3e-3aac-4f11-8a6c-76b5b41f7373",
   "metadata": {
    "editable": true,
    "slideshow": {
     "slide_type": "slide"
    },
    "tags": []
   },
   "source": [
    "# Dask\n",
    "\n",
    "* Distribute across multiple nodes\n",
    "* Task based"
   ]
  },
  {
   "cell_type": "markdown",
   "id": "75ccf625-6fad-4825-b4b8-dff100b855fa",
   "metadata": {
    "editable": true,
    "slideshow": {
     "slide_type": "slide"
    },
    "tags": []
   },
   "source": [
    "# Polars\n",
    "\n",
    "* Distribute across multple nodes\n",
    "* Columnar representation (**Apache Arrow**)\n",
    "* *Finally!* amiright?"
   ]
  },
  {
   "cell_type": "markdown",
   "id": "cd3756f8-07d2-4c51-9600-7185c35597d2",
   "metadata": {
    "editable": true,
    "slideshow": {
     "slide_type": "subslide"
    },
    "tags": []
   },
   "source": [
    "![Column-Oriented-Storage](./../images/Column-Wise-Representation.drawio.png)"
   ]
  },
  {
   "cell_type": "markdown",
   "id": "ca42978e-776d-4eba-b6ac-0a8f2c95e5a9",
   "metadata": {
    "editable": true,
    "slideshow": {
     "slide_type": "slide"
    },
    "tags": []
   },
   "source": [
    "# What Next?\n",
    "\n",
    "* Several notebooks are a work-in-progress (due to the time I am able to spare these days)  \n",
    "* Upcoming sections:\n",
    "\t- Build your own data engine from scratch in a day\n",
    "\t- Build your own RegEx engine \n",
    "\t- More Practice Exercises\n",
    "* Would love more collaboration from the Community!"
   ]
  },
  {
   "cell_type": "markdown",
   "id": "bb05c725-890f-40c5-b78b-7c09d21877bb",
   "metadata": {
    "editable": true,
    "slideshow": {
     "slide_type": "slide"
    },
    "tags": []
   },
   "source": [
    "# Thank you PyCon India 2023\n",
    "## You guys are all aces!"
   ]
  }
 ],
 "metadata": {
  "kernelspec": {
   "display_name": "Python 3 (ipykernel)",
   "language": "python",
   "name": "python3"
  },
  "language_info": {
   "codemirror_mode": {
    "name": "ipython",
    "version": 3
   },
   "file_extension": ".py",
   "mimetype": "text/x-python",
   "name": "python",
   "nbconvert_exporter": "python",
   "pygments_lexer": "ipython3",
   "version": "3.11.7"
  }
 },
 "nbformat": 4,
 "nbformat_minor": 5
}
