{
 "cells": [
  {
   "cell_type": "markdown",
   "id": "7e9f4107-83a1-4cf6-8340-9f9454b57eae",
   "metadata": {},
   "source": [
    "# Data Wrangling in Python  \n",
    "*Comparing Dictionaries, Named Tuples and Data Classes*  \n",
    "*Using the __MovieLens__ dataset*  "
   ]
  },
  {
   "cell_type": "markdown",
   "id": "02609311-3f22-483a-826d-846559bdcace",
   "metadata": {},
   "source": [
    "**Part 1.1: Comparing Dictionaries, Named Tuples and Data Classes**  \n",
    "  \n",
    "![Comparing Dictionaries, Named Tuples and Data Classes](./../images/data_munging_00-Python-Collections-015.png)"
   ]
  },
  {
   "cell_type": "markdown",
   "id": "f21bef00-086e-44fd-b516-01016a08432d",
   "metadata": {},
   "source": [
    "### <font color='green'>__Support for Google Colab__  </font>  \n",
    "    \n",
    "open this notebook in Colab using the following button:  \n",
    "  \n",
    "<a href=\"https://colab.research.google.com/github/shauryashaurya/learn-data-munging/blob/main/00-Python-Collections/01.02%20Playing%20with%20Itertools.ipynb\" target=\"_parent\"><img src=\"https://colab.research.google.com/assets/colab-badge.svg\" alt=\"Open In Colab\"/></a>  \n",
    "\n",
    "  \n",
    "<font color='green'>uncomment and execute the cell below to setup and run this notebook on Google Colab.</font>"
   ]
  },
  {
   "cell_type": "code",
   "execution_count": 1,
   "id": "cbba6f93-2b10-45bf-9975-a41d30ffd219",
   "metadata": {},
   "outputs": [],
   "source": [
    "# # SETUP FOR COLAB: select all the lines below and uncomment (CTRL+/ on windows)\n",
    "# # Let's download and unzip the Small MovieLens Dataset\n",
    "# ! mkdir ./../data\n",
    "# ! wget -q https://files.grouplens.org/datasets/movielens/ml-latest-small.zip\n",
    "# ! unzip ./ml-latest-small.zip -d ./../data/"
   ]
  },
  {
   "cell_type": "markdown",
   "id": "868129c9-cedd-4513-997b-53f9427b6f1a",
   "metadata": {},
   "source": [
    "### Get the _Small_ MovieLens Dataset"
   ]
  },
  {
   "cell_type": "markdown",
   "id": "67afc9a9-31b8-483d-89c1-699867c8700b",
   "metadata": {},
   "source": [
    "We'll use the [small MovieLens dataset](https://grouplens.org/datasets/movielens/#:~:text=Small%3A%20100%2C000%20ratings%20and%203%2C600%20tag%20applications) here.\n",
    "\n",
    "Download it and unzip to the data folder under the name `ml-latest-small`.\n",
    "\n",
    "This dataset expands to about 3.2 MB on your local disk. "
   ]
  },
  {
   "cell_type": "code",
   "execution_count": 1,
   "id": "4a045b14-f578-47ad-9972-a3f5aaba0911",
   "metadata": {},
   "outputs": [],
   "source": [
    "datalocation = \"./../data/ml-latest-small/\""
   ]
  },
  {
   "cell_type": "code",
   "execution_count": 2,
   "id": "0428c276-5ef7-4bde-addf-3bb79337783d",
   "metadata": {},
   "outputs": [],
   "source": [
    "# specify file names\n",
    "file_path_movies = datalocation + \"movies.csv\"\n",
    "file_path_links = datalocation + \"links.csv\"\n",
    "file_path_ratings = datalocation + \"ratings.csv\"\n",
    "file_path_tags = datalocation + \"tags.csv\""
   ]
  },
  {
   "cell_type": "markdown",
   "id": "0c49a2aa-3735-423c-b495-5c0ec5fe19d2",
   "metadata": {},
   "source": [
    "# Easy Problems with Dictionaries  \n",
    "1. **Count Movies by Genre**: Build a dictionary where keys are movie genres and values are the number of movies in each genre.\n",
    "2. **Find Highest Rated Movies**: Create a dictionary where keys are movie IDs and values are their average ratings. Then, identify the top N highest-rated movies.\n",
    "3. **Group Movies by Release Decade**: Organize movies into a dictionary where keys are decades (e.g., 1980s, 1990s) and values are lists of movie IDs released in that decade.\n",
    "4. **Identify Most Active Users**: Find the users who have rated the most movies, storing the user ID and count in a dictionary.\n",
    "5. **Recommend Movies Based on Similar Users**: Implement a simple recommendation system where you recommend movies liked by users similar to the target user based on their shared ratings.\n",
    "6. **Analyze Rating Distribution**: Create a dictionary where keys are rating values (1-5) and values are the percentage of movies receiving each rating.\n",
    "7. **Identify Users with Similar Rating Patterns**: Implement a function to identify pairs of users with similar rating distributions for specific genres or movie types.\n",
    "8. **Analyze User Preferences**: Build a dictionary for each user storing their preferred genres based on their rating history. (future state: if we find a way to join IMDb data in subsequent notebooks, it would be interesting to revisit this exercise to find out preferred directors, actors etc. for users)\n",
    "9. **Identify Trending Movies**: Implement a function that analyzes rating timestamps and identifies movies with the highest recent activity or rating spikes.\n",
    "10. **Create a Basic Movie Recommendation Engine** (possible duplicate, let's consider it for now): Combine user preferences and movie features to recommend movies likely to be enjoyed by a specific user.\n",
    "\n"
   ]
  },
  {
   "cell_type": "code",
   "execution_count": null,
   "id": "efb4fe20-37db-47f1-9c40-d7d17a9bb2fc",
   "metadata": {},
   "outputs": [],
   "source": []
  },
  {
   "cell_type": "code",
   "execution_count": null,
   "id": "6be760b3-005a-4df6-8e80-970720ed37de",
   "metadata": {},
   "outputs": [],
   "source": []
  },
  {
   "cell_type": "code",
   "execution_count": null,
   "id": "e82bcedc-1356-45a4-b9ac-3a27da9b445a",
   "metadata": {},
   "outputs": [],
   "source": []
  },
  {
   "cell_type": "code",
   "execution_count": null,
   "id": "1c16884f-dadd-4c9c-a16d-c059f90b8a6d",
   "metadata": {},
   "outputs": [],
   "source": []
  },
  {
   "cell_type": "code",
   "execution_count": null,
   "id": "46edf827-5d22-4271-8d3a-81a2bf4f23e9",
   "metadata": {},
   "outputs": [],
   "source": []
  },
  {
   "cell_type": "code",
   "execution_count": null,
   "id": "15aee13f-fb39-439e-9dc5-ebe8992242c7",
   "metadata": {},
   "outputs": [],
   "source": []
  },
  {
   "cell_type": "code",
   "execution_count": null,
   "id": "6cb92ec4-0334-49f8-ac02-ba5272f517b9",
   "metadata": {},
   "outputs": [],
   "source": []
  },
  {
   "cell_type": "code",
   "execution_count": null,
   "id": "a6741a4c-a9a8-47c0-ae33-522b9154c1cd",
   "metadata": {},
   "outputs": [],
   "source": []
  },
  {
   "cell_type": "code",
   "execution_count": null,
   "id": "4681b9dd-e72f-4d91-a182-153159b68ee4",
   "metadata": {},
   "outputs": [],
   "source": []
  },
  {
   "cell_type": "code",
   "execution_count": null,
   "id": "088f02d5-f3a3-4ea7-a6b4-df3751432e48",
   "metadata": {},
   "outputs": [],
   "source": []
  },
  {
   "cell_type": "code",
   "execution_count": null,
   "id": "c1a2fdd1-eca8-4d2b-87d1-326f93e82881",
   "metadata": {},
   "outputs": [],
   "source": []
  },
  {
   "cell_type": "code",
   "execution_count": null,
   "id": "2cd234ef-ed61-4ec9-80f0-0bfa246f32b4",
   "metadata": {},
   "outputs": [],
   "source": []
  },
  {
   "cell_type": "code",
   "execution_count": null,
   "id": "f583f757-4e30-43a2-abe2-907976d7b80c",
   "metadata": {},
   "outputs": [],
   "source": []
  },
  {
   "cell_type": "code",
   "execution_count": null,
   "id": "00941d55-79ec-4e48-927c-a3e83a48b1de",
   "metadata": {},
   "outputs": [],
   "source": []
  },
  {
   "cell_type": "code",
   "execution_count": null,
   "id": "5c680fdc-e714-4d0b-a79d-58c5b09c7691",
   "metadata": {},
   "outputs": [],
   "source": []
  },
  {
   "cell_type": "code",
   "execution_count": null,
   "id": "2b1963eb-512b-402b-a364-31674f36697e",
   "metadata": {},
   "outputs": [],
   "source": []
  },
  {
   "cell_type": "code",
   "execution_count": null,
   "id": "c252fb07-984a-424d-8dce-33087eb3cdb5",
   "metadata": {},
   "outputs": [],
   "source": []
  },
  {
   "cell_type": "markdown",
   "id": "e9cd9648-5a13-446f-a775-76616ace03c1",
   "metadata": {},
   "source": [
    "# Next"
   ]
  },
  {
   "cell_type": "markdown",
   "id": "f30f9979-d5c1-4fa6-875d-76e2c017ec76",
   "metadata": {},
   "source": [
    "We look at itertools and functools"
   ]
  }
 ],
 "metadata": {
  "kernelspec": {
   "display_name": "Python 3 (ipykernel)",
   "language": "python",
   "name": "python3"
  },
  "language_info": {
   "codemirror_mode": {
    "name": "ipython",
    "version": 3
   },
   "file_extension": ".py",
   "mimetype": "text/x-python",
   "name": "python",
   "nbconvert_exporter": "python",
   "pygments_lexer": "ipython3",
   "version": "3.11.4"
  }
 },
 "nbformat": 4,
 "nbformat_minor": 5
}
