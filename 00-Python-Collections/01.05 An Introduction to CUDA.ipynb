{
 "cells": [
  {
   "cell_type": "markdown",
   "id": "7e9f4107-83a1-4cf6-8340-9f9454b57eae",
   "metadata": {},
   "source": [
    "# Data Wrangling in Python  \n",
    "*CUDA: Using your Graphics Card to wrangle data*  "
   ]
  },
  {
   "cell_type": "markdown",
   "id": "02609311-3f22-483a-826d-846559bdcace",
   "metadata": {},
   "source": [
    "**Part 5: Using your Graphics Hardware and CUDA**  \n",
    "  \n",
    "![Using your Graphics Hardware and CUDA](./../images/data_munging_00-Python-Collections-05.png)"
   ]
  },
  {
   "cell_type": "markdown",
   "id": "f21bef00-086e-44fd-b516-01016a08432d",
   "metadata": {},
   "source": [
    "### <font color='green'>__Support for Google Colab__  </font>  \n",
    "    \n",
    "open this notebook in Colab using the following button:  \n",
    "  \n",
    "<a href=\"https://colab.research.google.com/github/shauryashaurya/learn-data-munging/blob/main/00-Python-Collections/01.02%20Playing%20with%20Itertools.ipynb\" target=\"_parent\"><img src=\"https://colab.research.google.com/assets/colab-badge.svg\" alt=\"Open In Colab\"/></a>  \n",
    "\n",
    "  \n",
    "<font color='green'>uncomment and execute the cell below to setup and run this notebook on Google Colab.</font>"
   ]
  },
  {
   "cell_type": "code",
   "execution_count": 1,
   "id": "cbba6f93-2b10-45bf-9975-a41d30ffd219",
   "metadata": {},
   "outputs": [],
   "source": [
    "# # SETUP FOR COLAB: select all the lines below and uncomment (CTRL+/ on windows)\n",
    "# # Let's download and unzip the Small MovieLens Dataset\n",
    "# ! mkdir ./../data\n",
    "# ! wget -q https://files.grouplens.org/datasets/movielens/ml-latest-small.zip\n",
    "# ! unzip ./ml-latest-small.zip -d ./../data/"
   ]
  },
  {
   "cell_type": "markdown",
   "id": "868129c9-cedd-4513-997b-53f9427b6f1a",
   "metadata": {},
   "source": [
    "### Get the _Small_ MovieLens Dataset"
   ]
  },
  {
   "cell_type": "markdown",
   "id": "67afc9a9-31b8-483d-89c1-699867c8700b",
   "metadata": {},
   "source": [
    "We'll use the [small MovieLens dataset](https://grouplens.org/datasets/movielens/#:~:text=Small%3A%20100%2C000%20ratings%20and%203%2C600%20tag%20applications) here.\n",
    "\n",
    "Download it and unzip to the data folder under the name `ml-latest-small`.\n",
    "\n",
    "This dataset expands to about 3.2 MB on your local disk. "
   ]
  },
  {
   "cell_type": "code",
   "execution_count": 2,
   "id": "4a045b14-f578-47ad-9972-a3f5aaba0911",
   "metadata": {},
   "outputs": [],
   "source": [
    "datalocation = \"./../data/ml-latest-small/\""
   ]
  },
  {
   "cell_type": "code",
   "execution_count": 3,
   "id": "0428c276-5ef7-4bde-addf-3bb79337783d",
   "metadata": {},
   "outputs": [],
   "source": [
    "# specify file names\n",
    "file_path_movies = datalocation + \"movies.csv\"\n",
    "file_path_links = datalocation + \"links.csv\"\n",
    "file_path_ratings = datalocation + \"ratings.csv\"\n",
    "file_path_tags = datalocation + \"tags.csv\""
   ]
  },
  {
   "cell_type": "code",
   "execution_count": 4,
   "id": "9cb3dd26-bcf3-45aa-b73e-80c63495a0b9",
   "metadata": {},
   "outputs": [],
   "source": [
    "from numba import jit, cuda\n",
    "import numpy as np\n",
    "from timeit import default_timer as timer"
   ]
  },
  {
   "cell_type": "code",
   "execution_count": 5,
   "id": "0eb162bd-1c87-49f9-95ba-57bda2e7610f",
   "metadata": {},
   "outputs": [],
   "source": [
    "# CPU\n",
    "def funCPU(a):\n",
    "    print(\"computing for CPU\")\n",
    "    for i in range(len(a)):\n",
    "        a[i]+=1"
   ]
  },
  {
   "cell_type": "code",
   "execution_count": 6,
   "id": "8a0e2074-dbcc-42be-8135-79de3392ad4c",
   "metadata": {},
   "outputs": [],
   "source": [
    "# GPU\n",
    "@jit(target_backend='cuda', nopython=True)\n",
    "def funGPU(a):\n",
    "    print(\"computing for GPU\")\n",
    "    for i in range(len(a)):\n",
    "        a[i]+=1"
   ]
  },
  {
   "cell_type": "code",
   "execution_count": 7,
   "id": "f281d430-1915-475e-93c6-3756eddc2f2a",
   "metadata": {},
   "outputs": [],
   "source": [
    "sample_size = [1000, 10000, 100000, 1000000, 10000000, 100000000]"
   ]
  },
  {
   "cell_type": "code",
   "execution_count": 8,
   "id": "fa1fc347-3e0f-42bf-bae9-508117f286c8",
   "metadata": {},
   "outputs": [
    {
     "name": "stdout",
     "output_type": "stream",
     "text": [
      "running for sample size:  1000\n",
      "computing for CPU\n",
      "without GPU:  0.00015190010890364647\n",
      "computing for GPU\n",
      "with GPU:  0.4940869000274688\n",
      "CPU:GPU =  0.0003074360176220045\n",
      "-----\n",
      "running for sample size:  10000\n",
      "computing for CPU\n",
      "without GPU:  0.0013236000668257475\n",
      "computing for GPU\n",
      "with GPU:  6.09993003308773e-06\n",
      "CPU:GPU =  216.98610633993664\n",
      "-----\n",
      "running for sample size:  100000\n",
      "computing for CPU\n",
      "without GPU:  0.013283499982208014\n",
      "computing for GPU\n",
      "with GPU:  3.8700178265571594e-05\n",
      "CPU:GPU =  343.2413125090244\n",
      "-----\n",
      "running for sample size:  1000000\n",
      "computing for CPU\n",
      "without GPU:  0.13398930011317134\n",
      "computing for GPU\n",
      "with GPU:  0.00043439981527626514\n",
      "CPU:GPU =  308.44695462855617\n",
      "-----\n",
      "running for sample size:  10000000\n",
      "computing for CPU\n",
      "without GPU:  1.3842377997934818\n",
      "computing for GPU\n",
      "with GPU:  0.004883699817582965\n",
      "CPU:GPU =  283.4403938607691\n",
      "-----\n",
      "running for sample size:  100000000\n",
      "computing for CPU\n",
      "without GPU:  13.447497899876907\n",
      "computing for GPU\n",
      "with GPU:  0.04645940009504557\n",
      "CPU:GPU =  289.4462234201545\n",
      "-----\n"
     ]
    }
   ],
   "source": [
    "for n in sample_size:\n",
    "    print(\"running for sample size: \", n)\n",
    "    a = np.ones(n, dtype = np.float64)\n",
    "    # calculate using CPU first\n",
    "    start = timer()\n",
    "    funCPU(a)\n",
    "    cpu_time = timer()-start\n",
    "    print(\"without GPU: \", cpu_time)\n",
    "    # calculate with GPU\n",
    "    start = timer()\n",
    "    funGPU(a)\n",
    "    gpu_time = timer()-start\n",
    "    print(\"with GPU: \", gpu_time)\n",
    "    print(\"CPU:GPU = \", str(cpu_time/gpu_time))\n",
    "    print(\"-----\")"
   ]
  },
  {
   "cell_type": "markdown",
   "id": "e9cd9648-5a13-446f-a775-76616ace03c1",
   "metadata": {},
   "source": [
    "# Next"
   ]
  },
  {
   "cell_type": "markdown",
   "id": "f30f9979-d5c1-4fa6-875d-76e2c017ec76",
   "metadata": {},
   "source": [
    "We'll revisit CUDA in Dask and Ray. For now, let's get into Pandas and Spark"
   ]
  }
 ],
 "metadata": {
  "kernelspec": {
   "display_name": "Python 3 (ipykernel)",
   "language": "python",
   "name": "python3"
  },
  "language_info": {
   "codemirror_mode": {
    "name": "ipython",
    "version": 3
   },
   "file_extension": ".py",
   "mimetype": "text/x-python",
   "name": "python",
   "nbconvert_exporter": "python",
   "pygments_lexer": "ipython3",
   "version": "3.11.4"
  }
 },
 "nbformat": 4,
 "nbformat_minor": 5
}
