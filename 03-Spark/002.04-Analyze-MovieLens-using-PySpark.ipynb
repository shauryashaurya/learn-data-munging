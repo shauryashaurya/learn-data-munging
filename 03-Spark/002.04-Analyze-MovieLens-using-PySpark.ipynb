{
 "cells": [
  {
   "cell_type": "markdown",
   "id": "b8790a31-ca72-42b4-b8b6-b244efe84272",
   "metadata": {},
   "source": [
    "# Data Analysis using __PySpark__  \n",
    "*Fun with the __MovieLens__ dataset*  \n",
    "\n",
    "**Part 4: Data Analysis using ratings.csv from the MovieLens dataset**"
   ]
  },
  {
   "cell_type": "markdown",
   "id": "fd11905f-2f1b-4404-b3c3-b4b5e6fb0b03",
   "metadata": {},
   "source": [
    "<font color='green'>__Support for Google Colab__  </font>\n",
    "\n",
    "<font color='green'>uncomment and execute the cell below to setup and run this Spark notebook on Google Colab.</font>"
   ]
  },
  {
   "cell_type": "code",
   "execution_count": null,
   "id": "40a5d0a9-63c4-4f60-82c3-68003f045bb2",
   "metadata": {},
   "outputs": [],
   "source": [
    "# # SETUP FOR COLAB: select all the lines below and uncomment (CTRL+/ on windows)\n",
    "\n",
    "# # grab spark\n",
    "# # as of 2023-06-23, the latest version is 3.4.1, get the link from Apache Spark's website\n",
    "# ! wget -q https://dlcdn.apache.org/spark/spark-3.4.1/spark-3.4.1-bin-hadoop3.tgz\n",
    "# # unzip spark\n",
    "# !tar xf spark-3.4.1-bin-hadoop3.tgz\n",
    "# # install findspark package\n",
    "# !pip install -q findspark\n",
    "# # Let's download and unzip the MovieLens 25M Dataset as well.\n",
    "# ! mkdir ./../data\n",
    "# ! wget -q https://files.grouplens.org/datasets/movielens/ml-25m.zip\n",
    "# ! unzip ./ml-25m.zip -d ./../data/\n",
    "\n",
    "# # got to provide JAVA_HOME and SPARK_HOME vairables\n",
    "# import os\n",
    "# os.environ[\"JAVA_HOME\"] = \"/usr/lib/jvm/java-11-openjdk-amd64\"\n",
    "# # IMPORTANT - UPDATE THE SPARK_HOME PATH BASED ON THE PACKAGE YOU DOWNLOAD\n",
    "# os.environ[\"SPARK_HOME\"] = \"/content/spark-3.4.1-bin-hadoop3\"\n",
    "# ! echo \"DONE\""
   ]
  },
  {
   "cell_type": "markdown",
   "id": "5d4299af-36ad-48a9-99e9-e88f27f140f7",
   "metadata": {},
   "source": [
    "## Start the local/colab Spark Cluster"
   ]
  },
  {
   "cell_type": "code",
   "execution_count": null,
   "id": "62f4a5bc-1727-4d45-b187-bcacc46483b3",
   "metadata": {},
   "outputs": [],
   "source": [
    "# Step 1: initialize findspark\n",
    "import findspark\n",
    "\n",
    "findspark.init()\n",
    "\n",
    "# Step 2: import pyspark\n",
    "import pyspark\n",
    "from pyspark.sql import SparkSession\n",
    "\n",
    "print(pyspark.__version__)\n",
    "\n",
    "# Step 3: Create a spark session\n",
    "#     using local[*] to use as many logical cores as available, use 1 when in doubt\n",
    "#     'local[1]' indicates spark on 1 core on the local machine or specify the number of cores needed\n",
    "#     use .config(\"spark.some.config.option\", \"some-value\") for additional configuration\n",
    "\n",
    "spark = (\n",
    "    SparkSession.builder.master(\"local[*]\")\n",
    "    .appName(\"Analyzing Movielens Data\")\n",
    "    .getOrCreate()\n",
    ")\n",
    "\n",
    "# spark"
   ]
  },
  {
   "cell_type": "markdown",
   "id": "fa237e26-60bc-4af5-aac2-34b61046b4f3",
   "metadata": {},
   "source": [
    "# Problem Set 3  - ```ratings.csv```\n",
    "\n",
    "1. Find number of films for each rating, so number of films that have at least one rating of 1, number of films that have at least one rating of 2 and so on...  \n",
    "\n",
    "1. List user-IDs in order of number of films they have rated, descending.  \n",
    "\n",
    "1. Are there users who have given multiple ratings to the same film?  "
   ]
  },
  {
   "cell_type": "markdown",
   "id": "6bf64daa-611a-4fdf-b355-a604961a022b",
   "metadata": {},
   "source": [
    "## Load Movies data from the MovieLens dataset"
   ]
  },
  {
   "cell_type": "code",
   "execution_count": null,
   "id": "07df86af-9d20-44bc-912f-96448fdb04fe",
   "metadata": {},
   "outputs": [],
   "source": [
    "from pyspark.sql.functions import *\n",
    "from pyspark.sql.types import *\n",
    "\n",
    "#\n",
    "datalocation = \"../data/ml-25m/\"\n",
    "file_path_ratings = datalocation + \"ratings.csv\"\n",
    "#\n",
    "schema_ratings = StructType(\n",
    "    [\n",
    "        StructField(\"userId\", StringType(), False),\n",
    "        StructField(\"movieId\", StringType(), False),\n",
    "        StructField(\"rating\", FloatType(), True),\n",
    "        StructField(\"timestamp\", StringType(), True),\n",
    "    ]\n",
    ")\n",
    "#\n",
    "ratings_raw = (\n",
    "    spark.read.format(\"csv\")\n",
    "    .option(\"encoding\", \"UTF-8\")\n",
    "    .option(\"header\", True)\n",
    "    .option(\"sep\", \",\")\n",
    "    .option(\"escape\", '\"')\n",
    "    .schema(schema_ratings)\n",
    "    .load(file_path_ratings)\n",
    ")"
   ]
  },
  {
   "cell_type": "code",
   "execution_count": null,
   "id": "ad028efb-9485-4f53-a231-6414d3e06570",
   "metadata": {},
   "outputs": [],
   "source": [
    "ratings_raw.show(10, False)"
   ]
  },
  {
   "cell_type": "markdown",
   "id": "579f3d61-1ab5-45fe-9fad-1f0079b744f5",
   "metadata": {},
   "source": [
    "## Solutions to Problem Set 3"
   ]
  },
  {
   "cell_type": "markdown",
   "id": "000394f5-7899-4477-8816-94bb2ee1d6cd",
   "metadata": {},
   "source": [
    "### Find number of films for each rating\n",
    "\n",
    "* so number of films that have at least one rating of 1, number of films that have at least one rating of 2 and so on..."
   ]
  },
  {
   "cell_type": "code",
   "execution_count": null,
   "id": "eaf0f6a2-129d-44bb-a572-62d9b29b7611",
   "metadata": {},
   "outputs": [],
   "source": [
    "# to refresh, here's what ratings data looks like\n",
    "ratings_raw.show(10)"
   ]
  },
  {
   "cell_type": "code",
   "execution_count": null,
   "id": "7d763318-69e3-425b-bc89-1d06ad2a6bef",
   "metadata": {},
   "outputs": [],
   "source": [
    "absolute_freq_ratings = ratings_raw.groupBy(\"rating\").count()"
   ]
  },
  {
   "cell_type": "code",
   "execution_count": null,
   "id": "ecac6655-19f0-4049-8a51-644431ca14e1",
   "metadata": {},
   "outputs": [],
   "source": [
    "absolute_freq_ratings.orderBy(col(\"count\").desc()).show()"
   ]
  },
  {
   "cell_type": "code",
   "execution_count": null,
   "id": "562d3345-3c25-4b3a-85c3-5af9998642a1",
   "metadata": {},
   "outputs": [],
   "source": [
    "# setup matplotlib before starting plotting\n",
    "import matplotlib.pyplot as plt\n",
    "\n",
    "# jupyter mpl magic\n",
    "%matplotlib inline\n",
    "\n",
    "# note: in case you want to use the widget or notebook magic:\n",
    "# ensure that ipympl is also installed.\n",
    "# there may be other steps involved as well\n",
    "# for e.g. widget works based on nodeJS, so you'll have to config/enable that too"
   ]
  },
  {
   "cell_type": "code",
   "execution_count": null,
   "id": "032f6268-c6c5-470a-b0f0-4a21e45e17cc",
   "metadata": {},
   "outputs": [],
   "source": [
    "# convert each column to a list\n",
    "absolute_freq_ratings_x = (\n",
    "    absolute_freq_ratings.select(col(\"rating\")).rdd.flatMap(lambda x: x).collect()\n",
    ")\n",
    "absolute_freq_ratings_y = (\n",
    "    absolute_freq_ratings.select(col(\"count\")).rdd.flatMap(lambda x: x).collect()\n",
    ")"
   ]
  },
  {
   "cell_type": "code",
   "execution_count": null,
   "id": "ce7e4bd5-41ba-41ea-9716-17033e8c27f7",
   "metadata": {},
   "outputs": [],
   "source": [
    "plt.figure(figsize=(18, 5))\n",
    "plt.bar(absolute_freq_ratings_x, absolute_freq_ratings_y)\n",
    "plt.title(\"Absolute Frequencies of Ratings\")\n",
    "plt.xlabel(\"Rating\")\n",
    "plt.ylabel(\"Number Of Movies\")\n",
    "plt.show()"
   ]
  },
  {
   "cell_type": "markdown",
   "id": "cae5b850-4ebe-49c0-a5d5-05b5a4e5b510",
   "metadata": {},
   "source": [
    "### List user-IDs in order of number of films they have rated, descending"
   ]
  },
  {
   "cell_type": "code",
   "execution_count": null,
   "id": "83f8db25-3fea-4d0b-a94f-cf52223985ac",
   "metadata": {},
   "outputs": [],
   "source": [
    "rating_freq_by_user = ratings_raw.groupBy(\"userId\").count()"
   ]
  },
  {
   "cell_type": "code",
   "execution_count": null,
   "id": "fd136e54-dab9-4deb-8303-c1ace887cbcc",
   "metadata": {},
   "outputs": [],
   "source": [
    "rating_freq_by_user.orderBy(col(\"count\").desc()).show()"
   ]
  },
  {
   "cell_type": "code",
   "execution_count": null,
   "id": "ac170221-184b-4137-87c7-32ff39d15dea",
   "metadata": {},
   "outputs": [],
   "source": [
    "rating_freq_by_user.count()"
   ]
  },
  {
   "cell_type": "markdown",
   "id": "835f4294-67a5-4eba-b807-a2abb8b9eb53",
   "metadata": {},
   "source": [
    "That's a lot of ratings by a lot of users...  \n",
    "\n",
    "Some of these like ```72315``` def seem like a bot - or a human whose spent a lot of time regularly watching films - if we estimate a film to be 90 minutes on an average, it comes to about 48303 hours - that's like 5.5 years of 24/7 movie-watching! In practice this would've taken the person 8-10 times longer (considering 3 hours of movies daily - no holidays) - so 44 to 55 years of movies... - yeah, I'll bet this was some automated thing\n",
    "\n"
   ]
  },
  {
   "cell_type": "markdown",
   "id": "eb55ab99-65a6-4321-91f6-c00081077175",
   "metadata": {},
   "source": [
    "### Are there users who have given multiple ratings to the same film?"
   ]
  },
  {
   "cell_type": "code",
   "execution_count": null,
   "id": "58255809-e21b-4fab-8823-5f453305bfb9",
   "metadata": {},
   "outputs": [],
   "source": [
    "usr_movie_count = ratings_raw.groupBy(\"userId\", \"movieId\").count()"
   ]
  },
  {
   "cell_type": "code",
   "execution_count": null,
   "id": "ab03e4bc-0992-421e-b08c-714ce34d4f9e",
   "metadata": {},
   "outputs": [],
   "source": [
    "# usr_movie_count.orderBy(col(\"count\").asc()).show(10)"
   ]
  },
  {
   "cell_type": "markdown",
   "id": "217204b8-9e77-4d31-88c7-cd2db934bf6e",
   "metadata": {},
   "source": [
    "Doesn't seem like users have rated the same movie multiple times.\n",
    "*[think]* is there another way to confirm this?"
   ]
  },
  {
   "cell_type": "markdown",
   "id": "302fe38b-4d7f-4956-bd37-a17cf78c2dde",
   "metadata": {},
   "source": [
    "# Clear cache and stop the spark cluster"
   ]
  },
  {
   "cell_type": "code",
   "execution_count": null,
   "id": "c268269a-8ebe-4c78-bcaf-e885d4939b9f",
   "metadata": {},
   "outputs": [],
   "source": [
    "# clear cache\n",
    "spark.catalog.clearCache()"
   ]
  },
  {
   "cell_type": "code",
   "execution_count": null,
   "id": "d72b7464-5f42-4560-9e3d-4974b35fa702",
   "metadata": {},
   "outputs": [],
   "source": [
    "# stop spark\n",
    "spark.stop()"
   ]
  },
  {
   "cell_type": "markdown",
   "id": "cd70cd3b-77a7-4869-aa56-d0d16e1fc6b8",
   "metadata": {},
   "source": [
    "# Insights"
   ]
  },
  {
   "cell_type": "markdown",
   "id": "4acb2e22-988d-4597-8cb0-d6f77ad95e00",
   "metadata": {},
   "source": [
    "We are practicing some of the same stuff, however ```ratings``` is a substantially larger dataset - we need to be more careful with joins etc."
   ]
  },
  {
   "cell_type": "markdown",
   "id": "79fbe784-8f1a-4755-ac3a-0eb87b33504c",
   "metadata": {},
   "source": [
    "# Next"
   ]
  },
  {
   "cell_type": "markdown",
   "id": "fe033aaf-47a2-4521-ad20-14704d23c795",
   "metadata": {},
   "source": [
    "We continue our data analysis exercises with multiple data files loaded."
   ]
  }
 ],
 "metadata": {
  "kernelspec": {
   "display_name": "Python 3 (ipykernel)",
   "language": "python",
   "name": "python3"
  },
  "language_info": {
   "codemirror_mode": {
    "name": "ipython",
    "version": 3
   },
   "file_extension": ".py",
   "mimetype": "text/x-python",
   "name": "python",
   "nbconvert_exporter": "python",
   "pygments_lexer": "ipython3",
   "version": "3.11.7"
  }
 },
 "nbformat": 4,
 "nbformat_minor": 5
}
