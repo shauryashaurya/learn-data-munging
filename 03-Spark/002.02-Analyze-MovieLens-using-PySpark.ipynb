{
 "cells": [
  {
   "cell_type": "markdown",
   "id": "582c56e9-64ed-4e75-b701-8e456d4b0073",
   "metadata": {
    "editable": true,
    "slideshow": {
     "slide_type": ""
    },
    "tags": []
   },
   "source": [
    "# Data Analysis using __PySpark__  \n",
    "*Fun with the __MovieLens__ dataset*  \n",
    "\n",
    "**Part 2: Data Analysis basics using tags.csv from the MovieLens dataset**"
   ]
  },
  {
   "cell_type": "markdown",
   "id": "d66c3ea4-b2f7-4fcb-bd16-de39c475fe45",
   "metadata": {},
   "source": [
    "<font color='green'>__Support for Google Colab__  </font>\n",
    "\n",
    "open this notebook in Colab using the following button:  \n",
    "  \n",
    "<a href=\"https://colab.research.google.com/github/shauryashaurya/learn-data-munging/blob/main/03-Spark/002.02-Analyze-MovieLens-using-PySpark.ipynb\" target=\"_parent\"><img src=\"https://colab.research.google.com/assets/colab-badge.svg\" alt=\"Open In Colab\"/></a>  \n",
    "\n",
    "<font color='green'>uncomment and execute the cell below to setup and run this Spark notebook on Google Colab.</font>"
   ]
  },
  {
   "cell_type": "code",
   "execution_count": 1,
   "id": "da7fdc50-355c-4550-b9d2-f5d51bdfe4b5",
   "metadata": {
    "editable": true,
    "slideshow": {
     "slide_type": ""
    },
    "tags": []
   },
   "outputs": [],
   "source": [
    "# # SETUP FOR COLAB: select all the lines below and uncomment (CTRL+/ on windows)\n",
    "\n",
    "# # grab spark\n",
    "# # as of Jan 2025, the *working* version is 3.5.4, get the link from Apache Spark's website\n",
    "# ! wget -q https://dlcdn.apache.org/spark/spark-3.5.4/spark-3.5.4-bin-hadoop3.tgz\n",
    "# # unzip spark\n",
    "# !tar xf spark-3.5.4-bin-hadoop3.tgz\n",
    "# # install findspark package\n",
    "# !pip install -q findspark\n",
    "# # Let's download and unzip the MovieLens 25M Dataset as well.\n",
    "# ! mkdir ./../data\n",
    "# ! wget -q https://files.grouplens.org/datasets/movielens/ml-25m.zip\n",
    "# ! unzip ./ml-25m.zip -d ./../data/\n",
    "\n",
    "# # got to provide JAVA_HOME and SPARK_HOME vairables\n",
    "# import os\n",
    "# # IMPORTANT - check the version of java, use 11 or 17, code not tested on 21 yet\n",
    "# os.environ[\"JAVA_HOME\"] = \"/usr/lib/jvm/java-11-openjdk-amd64\"\n",
    "# # IMPORTANT - UPDATE THE SPARK_HOME PATH BASED ON THE PACKAGE YOU DOWNLOAD\n",
    "# os.environ[\"SPARK_HOME\"] = \"/content/spark-3.5.4-bin-hadoop3\"\n",
    "# ! echo \"DONE\""
   ]
  },
  {
   "cell_type": "markdown",
   "id": "75c9e7e5-5209-4df6-be1f-51a08cfb141d",
   "metadata": {},
   "source": [
    "## Start the local/colab Spark Cluster"
   ]
  },
  {
   "cell_type": "code",
   "execution_count": 2,
   "id": "45890b3f-cf5c-4421-9533-767d60a2d4ec",
   "metadata": {},
   "outputs": [],
   "source": [
    "# Step 1: initialize findspark\n",
    "import findspark\n",
    "\n",
    "findspark.init()"
   ]
  },
  {
   "cell_type": "code",
   "execution_count": 3,
   "id": "6b0f2108-9e49-49a0-8f2d-fdf33a6194c4",
   "metadata": {},
   "outputs": [
    {
     "name": "stdout",
     "output_type": "stream",
     "text": [
      "3.5.4\n"
     ]
    }
   ],
   "source": [
    "# Step 2: import pyspark\n",
    "import pyspark\n",
    "from pyspark.sql import SparkSession\n",
    "\n",
    "print(pyspark.__version__)"
   ]
  },
  {
   "cell_type": "code",
   "execution_count": 4,
   "id": "ee23a7b8-45ab-4642-8086-dacdb8769121",
   "metadata": {},
   "outputs": [],
   "source": [
    "# Step 3: Create a spark session\n",
    "#     using local[*] to use as many logical cores as available, use 1 when in doubt\n",
    "#     'local[1]' indicates spark on 1 core on the local machine or specify the number of cores needed\n",
    "#     use .config(\"spark.some.config.option\", \"some-value\") for additional configuration\n",
    "\n",
    "spark = (\n",
    "    SparkSession.builder.master(\"local[*]\")\n",
    "    .appName(\"Analyzing Movielens Data\")\n",
    "    .getOrCreate()\n",
    ")"
   ]
  },
  {
   "cell_type": "code",
   "execution_count": 5,
   "id": "6592b964-b4dd-468f-bfd9-5bb7031f4bdb",
   "metadata": {},
   "outputs": [
    {
     "data": {
      "text/html": [
       "\n",
       "            <div>\n",
       "                <p><b>SparkSession - in-memory</b></p>\n",
       "                \n",
       "        <div>\n",
       "            <p><b>SparkContext</b></p>\n",
       "\n",
       "            <p><a href=\"http://The-Wonder-Of-U:4043\">Spark UI</a></p>\n",
       "\n",
       "            <dl>\n",
       "              <dt>Version</dt>\n",
       "                <dd><code>v3.5.4</code></dd>\n",
       "              <dt>Master</dt>\n",
       "                <dd><code>local[*]</code></dd>\n",
       "              <dt>AppName</dt>\n",
       "                <dd><code>Analyzing Movielens Data</code></dd>\n",
       "            </dl>\n",
       "        </div>\n",
       "        \n",
       "            </div>\n",
       "        "
      ],
      "text/plain": [
       "<pyspark.sql.session.SparkSession at 0x22ef1bc8c90>"
      ]
     },
     "execution_count": 5,
     "metadata": {},
     "output_type": "execute_result"
    }
   ],
   "source": [
    "spark"
   ]
  },
  {
   "cell_type": "markdown",
   "id": "3e2cd306-d816-4cad-afe0-51bc62341c75",
   "metadata": {},
   "source": [
    "# Problem Set 1  - ```tags.csv```\n",
    "\n",
    "1. __Cleanup data__ Some tags may have wrapping quotation marks or similar special characters, also leading/trailing spaces etc.\n",
    "    * for example, the tag ```\"A Christmas Carol\"``` becomes ```A Christmas Carol``` etc.\n",
    "  \n",
    "1. List all unique tags found in ```tags.csv```  \n",
    "    * sort all tags lexically \n",
    "    * Also print the execution plan  \n",
    "    * *[think]* If there are multiple ways of doing this, compare the execution plans  \n",
    "    \n",
    "1. Which movies have the most number of tags? \n",
    "    * List movieIds in order of # of tags associated  \n",
    "    * Can we find out which movies have most # of *distinct* tags?\n",
    "    * Does the ```timestamp``` column have any impact on your report?\n",
    "  \n",
    "1. Which users have added the most number of tags?\n",
    "    * List userIds in order of # of tags created  \n",
    "    * Can we find out which users have created most # of *distinct* tags?\n",
    "    * Does the ```timestamp``` column have any impact on your report?\n",
    "  \n",
    "1. Which users have tagged the most number of movies?\n",
    "    * Like before, can we find out which users have tagged the most # of *distinct* movies? Does this question make sense in the context of users?\n",
    "    * Does the ```timestamp``` column have any impact on your report?\n",
    "  \n",
    "1. *[optional, skip on first attept]* We want to find out if there were days of higher activity during the tagging exercise or if the tagging output was more-or-less consistent. \n",
    "    * Convert time-stamps to Day-Month-Year. \n",
    "    * Find the date range (min-date, max-date) during which the tagging activity took place.\n",
    "    * Plot number of movies tagged per day during the date range\n",
    "\n",
    "1. *[optional, skip on first attept]* We want to find out how many users were active every day of the tagging activity. \n",
    "    * Plot number of users who tagged at least one movie during the tagging activity date range"
   ]
  },
  {
   "cell_type": "markdown",
   "id": "ed96e1c2-0a1c-4331-9529-93baab52939c",
   "metadata": {},
   "source": [
    "# Load Tags data from the MovieLens dataset"
   ]
  },
  {
   "cell_type": "code",
   "execution_count": 6,
   "id": "47cd64c2-9b31-4665-96cb-7fd1ec57f0e4",
   "metadata": {},
   "outputs": [],
   "source": [
    "from pyspark.sql.functions import *\n",
    "from pyspark.sql.types import *"
   ]
  },
  {
   "cell_type": "code",
   "execution_count": 7,
   "id": "d4e7db1f-9846-4a0c-87b8-5c8a2954e499",
   "metadata": {},
   "outputs": [],
   "source": [
    "#\n",
    "datalocation = \"../data/ml-25m/\"\n",
    "file_path_tags = datalocation + \"tags.csv\"\n",
    "#\n",
    "schema_tags = StructType(\n",
    "    [\n",
    "        StructField(\"userId\", StringType(), False),\n",
    "        StructField(\"movieId\", StringType(), False),\n",
    "        StructField(\"tag\", StringType(), True),\n",
    "        StructField(\"timestamp\", StringType(), True),\n",
    "    ]\n",
    ")\n",
    "#\n",
    "tags_raw = (\n",
    "    spark.read.format(\"csv\")\n",
    "    .option(\"encoding\", \"UTF-8\")\n",
    "    .option(\"header\", True)\n",
    "    .option(\"sep\", \",\")\n",
    "    .option(\"escape\", '\"')\n",
    "    .schema(schema_tags)\n",
    "    .load(file_path_tags)\n",
    ")"
   ]
  },
  {
   "cell_type": "code",
   "execution_count": 8,
   "id": "6b78fc8b-faae-4718-a4e8-8e79305ddb3c",
   "metadata": {},
   "outputs": [
    {
     "name": "stdout",
     "output_type": "stream",
     "text": [
      "+------+-------+-----------------------+----------+\n",
      "|userId|movieId|tag                    |timestamp |\n",
      "+------+-------+-----------------------+----------+\n",
      "|3     |260    |classic                |1439472355|\n",
      "|3     |260    |sci-fi                 |1439472256|\n",
      "|4     |1732   |dark comedy            |1573943598|\n",
      "|4     |1732   |great dialogue         |1573943604|\n",
      "|4     |7569   |so bad it's good       |1573943455|\n",
      "|4     |44665  |unreliable narrators   |1573943619|\n",
      "|4     |115569 |tense                  |1573943077|\n",
      "|4     |115713 |artificial intelligence|1573942979|\n",
      "|4     |115713 |philosophical          |1573943033|\n",
      "|4     |115713 |tense                  |1573943042|\n",
      "+------+-------+-----------------------+----------+\n",
      "only showing top 10 rows\n",
      "\n"
     ]
    }
   ],
   "source": [
    "tags_raw.show(10, False)"
   ]
  },
  {
   "cell_type": "markdown",
   "id": "b4b8effc-d4ea-40a3-bddf-255178a0aa6d",
   "metadata": {},
   "source": [
    "# Solutions to Problem Set 1"
   ]
  },
  {
   "cell_type": "markdown",
   "id": "e17dedd8-4778-4d88-a8d7-75693dc66589",
   "metadata": {},
   "source": [
    "### Cleanup  \n",
    "Some tags may have wrapping quotation marks or similar special characters, also leading/trailing spaces etc. Cleanup tags  \n",
    "\n",
    "* for example, the tag \"A Christmas Carol\" becomes A Christmas Carol etc."
   ]
  },
  {
   "cell_type": "code",
   "execution_count": 9,
   "id": "d5a0b587-b858-43a5-90ac-460f4d931527",
   "metadata": {},
   "outputs": [],
   "source": [
    "# Remove wrapping quotation marks from tags\n",
    "\n",
    "# if there's cleanup needed,\n",
    "# we do that first before finding out unique records,\n",
    "# chances are uniqueness will be affected if we don't follow this order.\n",
    "\n",
    "# code clean up update - importing * from pyspark.sql.functions at the top of the notebook\n",
    "# from pyspark.sql.functions import col, lower, regexp_replace, trim"
   ]
  },
  {
   "cell_type": "code",
   "execution_count": 10,
   "id": "38a4a5ff-4057-41a7-9877-d14da244d7a9",
   "metadata": {},
   "outputs": [],
   "source": [
    "# define a regex pattern to use.\n",
    "# ^ indicates start of string, $ indicates end of string\n",
    "# double quote or single quote or ampersand or bang just after start of string\n",
    "pattern_start = \"^\\\"|^'|^&|^#\"\n",
    "# double quote or single quote or ampersand or bang just before end of string\n",
    "pattern_end = \"\\\"$|'$|&$|#$\"\n",
    "pattern = pattern_start + \"|\" + pattern_end"
   ]
  },
  {
   "cell_type": "code",
   "execution_count": 11,
   "id": "10fa3f01-2f6a-43a6-92f7-ba140dcdccb8",
   "metadata": {},
   "outputs": [],
   "source": [
    "# create a new tags dataframe with cleaned up data\n",
    "tags = tags_raw.withColumn(\"tag\", regexp_replace(trim(col(\"tag\")), pattern, \"\"))"
   ]
  },
  {
   "cell_type": "code",
   "execution_count": 12,
   "id": "8df83907-e043-4672-b77f-3d8cf84dd40f",
   "metadata": {},
   "outputs": [
    {
     "name": "stdout",
     "output_type": "stream",
     "text": [
      "+------+-------+-------------------+----------+\n",
      "|userId|movieId|                tag| timestamp|\n",
      "+------+-------+-------------------+----------+\n",
      "| 63844|   4023|\"A Christmas Carol\"|1457037403|\n",
      "+------+-------+-------------------+----------+\n",
      "\n",
      "+------+-------+-----------------+----------+\n",
      "|userId|movieId|              tag| timestamp|\n",
      "+------+-------+-----------------+----------+\n",
      "| 63844|   4023|A Christmas Carol|1457037403|\n",
      "+------+-------+-----------------+----------+\n",
      "\n"
     ]
    }
   ],
   "source": [
    "# quotes stripped and other chars too...\n",
    "tags_raw.filter(col(\"tag\").contains(\"Christmas Carol\")).show()\n",
    "tags.filter(col(\"tag\").contains(\"Christmas Carol\")).show()"
   ]
  },
  {
   "cell_type": "markdown",
   "id": "166e88b5-5ac1-4f8b-901d-f873750fd89c",
   "metadata": {},
   "source": [
    "### List all unique tags found in ```tags.csv```  \n",
    "    * sort all tags lexically \n",
    "    * Also print the execution plan  \n",
    "    * *[think]* If there are multiple ways of doing this, compare the execution plans  "
   ]
  },
  {
   "cell_type": "code",
   "execution_count": 13,
   "id": "be8c300d-8300-4eda-ab5c-988e6359eb44",
   "metadata": {},
   "outputs": [
    {
     "name": "stdout",
     "output_type": "stream",
     "text": [
      "+------+-------+----------------+----------------+----------+\n",
      "|userId|movieId|tag             |lower tag       |timestamp |\n",
      "+------+-------+----------------+----------------+----------+\n",
      "|3     |260    |classic         |classic         |1439472355|\n",
      "|3     |260    |sci-fi          |sci-fi          |1439472256|\n",
      "|4     |1732   |dark comedy     |dark comedy     |1573943598|\n",
      "|4     |1732   |great dialogue  |great dialogue  |1573943604|\n",
      "|4     |7569   |so bad it's good|so bad it's good|1573943455|\n",
      "+------+-------+----------------+----------------+----------+\n",
      "only showing top 5 rows\n",
      "\n"
     ]
    }
   ],
   "source": [
    "# unique tags found in tags.csv - prep\n",
    "# careful - comparision should be case-insensitive\n",
    "# because 'Christmas Special' and 'Christmas special' are really the same thing\n",
    "# create a new column in tags\n",
    "tags = tags.withColumn(\"lower tag\", lower(col(\"tag\")))\n",
    "# reorder columns for easy readability\n",
    "tags = tags.select(\"userId\", \"movieId\", \"tag\", \"lower tag\", \"timestamp\")\n",
    "tags.show(5, False)"
   ]
  },
  {
   "cell_type": "code",
   "execution_count": 14,
   "id": "a93af9b0-9a58-4da0-b584-6b2fc82e64aa",
   "metadata": {},
   "outputs": [
    {
     "name": "stdout",
     "output_type": "stream",
     "text": [
      "+-------------+\n",
      "|lower tag    |\n",
      "+-------------+\n",
      "|anime        |\n",
      "|art          |\n",
      "|traveling    |\n",
      "|travel       |\n",
      "|loss of child|\n",
      "+-------------+\n",
      "only showing top 5 rows\n",
      "\n"
     ]
    }
   ],
   "source": [
    "# unique tags found in tags.csv - method 1, using distinct()\n",
    "distinct_tags1 = tags.select(\"lower tag\").distinct()\n",
    "#\n",
    "# let's do the explaining later, so it's easy to compare methods\n",
    "# distinct_tags.explain(True)\n",
    "# show 5 rows, do not truncate\n",
    "distinct_tags1.show(5, False)"
   ]
  },
  {
   "cell_type": "code",
   "execution_count": 15,
   "id": "c0b63172-4976-4526-819d-76bd4edba583",
   "metadata": {},
   "outputs": [
    {
     "name": "stdout",
     "output_type": "stream",
     "text": [
      "+-------------+-----+\n",
      "|lower tag    |count|\n",
      "+-------------+-----+\n",
      "|anime        |1585 |\n",
      "|art          |340  |\n",
      "|traveling    |14   |\n",
      "|travel       |256  |\n",
      "|loss of child|21   |\n",
      "+-------------+-----+\n",
      "only showing top 5 rows\n",
      "\n"
     ]
    }
   ],
   "source": [
    "# unique tags found in tags.csv - method 2, using groupBy()\n",
    "# an aggregator like count() results in a dataframe\n",
    "# distinct_tags2 = tags.select('lower tag').groupBy('lower tag').count()\n",
    "distinct_tags2 = tags.select(\"lower tag\").groupBy(\"lower tag\").count()\n",
    "# let's do the explaining later, so it's easy to compare methods\n",
    "# distinct_tags2.explain(True)\n",
    "# show 5 rows, no truncate\n",
    "distinct_tags2.show(5, False)"
   ]
  },
  {
   "cell_type": "markdown",
   "id": "8d5554dd-6d9f-4907-8fc9-8fbafe8f20ab",
   "metadata": {},
   "source": [
    "Compare execution plan explanations for distinct() and groupBy()...  \n",
    "(uncomment the lines below)\n",
    "also [reference documentation](https://spark.apache.org/docs/latest/api/python/reference/pyspark.sql/api/pyspark.sql.DataFrame.explain.html#pyspark.sql.DataFrame.explain)"
   ]
  },
  {
   "cell_type": "code",
   "execution_count": 16,
   "id": "eaa1ee7c-9448-4a03-a4c9-aa988842b43b",
   "metadata": {},
   "outputs": [],
   "source": [
    "# extended set as True\n",
    "# to see something specific choose a mode\n",
    "# distinct_tags1.explain(True)"
   ]
  },
  {
   "cell_type": "code",
   "execution_count": 17,
   "id": "08531a49-5b1a-4be1-b171-7a7eb56027cc",
   "metadata": {},
   "outputs": [],
   "source": [
    "# distinct_tags2.explain(True)"
   ]
  },
  {
   "cell_type": "markdown",
   "id": "e0a244a0-c16b-4e6a-8327-0e95fedd0503",
   "metadata": {},
   "source": [
    "Compare the costs in the two execution plans"
   ]
  },
  {
   "cell_type": "code",
   "execution_count": 18,
   "id": "1bc3f169-c443-42e6-9469-99c0c9b6db6f",
   "metadata": {},
   "outputs": [
    {
     "name": "stdout",
     "output_type": "stream",
     "text": [
      "== Optimized Logical Plan ==\n",
      "Aggregate [lower tag#77], [lower tag#77], Statistics(sizeInBytes=11.8 MiB)\n",
      "+- Project [lower(regexp_replace(trim(tag#2, None), ^\"|^'|^&|^#|\"$|'$|&$|#$, , 1)) AS lower tag#77], Statistics(sizeInBytes=11.8 MiB)\n",
      "   +- Relation [userId#0,movieId#1,tag#2,timestamp#3] csv, Statistics(sizeInBytes=37.0 MiB)\n",
      "\n",
      "== Physical Plan ==\n",
      "AdaptiveSparkPlan isFinalPlan=false\n",
      "+- HashAggregate(keys=[lower tag#77], functions=[], output=[lower tag#77])\n",
      "   +- Exchange hashpartitioning(lower tag#77, 200), ENSURE_REQUIREMENTS, [plan_id=176]\n",
      "      +- HashAggregate(keys=[lower tag#77], functions=[], output=[lower tag#77])\n",
      "         +- Project [lower(regexp_replace(trim(tag#2, None), ^\"|^'|^&|^#|\"$|'$|&$|#$, , 1)) AS lower tag#77]\n",
      "            +- FileScan csv [tag#2] Batched: false, DataFilters: [], Format: CSV, Location: InMemoryFileIndex(1 paths)[file:/C:/shaurya/lab/learn-data-munging/data/ml-25m/tags.csv], PartitionFilters: [], PushedFilters: [], ReadSchema: struct<tag:string>\n",
      "\n",
      "\n"
     ]
    }
   ],
   "source": [
    "distinct_tags1.explain(mode=\"cost\")"
   ]
  },
  {
   "cell_type": "code",
   "execution_count": 19,
   "id": "367cc8cb-374b-40f7-b152-34c179546b55",
   "metadata": {},
   "outputs": [],
   "source": [
    "# distinct_tags2.explain(mode='cost')"
   ]
  },
  {
   "cell_type": "markdown",
   "id": "2a03e154-c41d-4cbf-9e46-f1d3d5ea8f18",
   "metadata": {},
   "source": [
    "The two plans look identical:"
   ]
  },
  {
   "cell_type": "markdown",
   "id": "10286ed2-eb91-4677-95a1-065491f7691b",
   "metadata": {},
   "source": [
    "**distinct()**  \n",
    "  \n",
    "```\n",
    "== Physical Plan ==\n",
    "AdaptiveSparkPlan isFinalPlan=false\n",
    "+- Sort [lower tag#130 ASC NULLS FIRST], true, 0\n",
    "   +- Exchange rangepartitioning(lower tag#130 ASC NULLS FIRST, 200), ENSURE_REQUIREMENTS, [id=#1415]\n",
    "      +- HashAggregate(keys=[lower tag#130], functions=[], output=[lower tag#130])\n",
    "         +- Exchange hashpartitioning(lower tag#130, 200), ENSURE_REQUIREMENTS, [id=#1412]\n",
    "            +- HashAggregate(keys=[lower tag#130], functions=[], output=[lower tag#130])\n",
    "               +- Project [lower(regexp_replace(trim(tag#55, None), ^\"|^'|^&|^#|\"$|'$|&$|#$, , 1)) AS lower tag#130]\n",
    "                  +- FileScan csv [tag#55] Batched: false, DataFilters: [], Format: CSV, Location: InMemoryFileIndex(1 paths)[file:/.../tags.csv], PartitionFilters: [], PushedFilters: [], ReadSchema: struct<tag:string>\n",
    "```"
   ]
  },
  {
   "cell_type": "markdown",
   "id": "38b0bcea-f13f-452c-85b6-49420d5d7576",
   "metadata": {},
   "source": [
    "**groupBy()**  \n",
    "  \n",
    "```\n",
    "== Physical Plan ==\n",
    "AdaptiveSparkPlan isFinalPlan=false\n",
    "+- Sort [lower tag#130 ASC NULLS FIRST], true, 0\n",
    "   +- Exchange rangepartitioning(lower tag#130 ASC NULLS FIRST, 200), ENSURE_REQUIREMENTS, [id=#1437]\n",
    "      +- HashAggregate(keys=[lower tag#130], functions=[count(1)], output=[lower tag#130, count#176L])\n",
    "         +- Exchange hashpartitioning(lower tag#130, 200), ENSURE_REQUIREMENTS, [id=#1434]\n",
    "            +- HashAggregate(keys=[lower tag#130], functions=[partial_count(1)], output=[lower tag#130, count#186L])\n",
    "               +- Project [lower(regexp_replace(trim(tag#55, None), ^\"|^'|^&|^#|\"$|'$|&$|#$, , 1)) AS lower tag#130]\n",
    "                  +- FileScan csv [tag#55] Batched: false, DataFilters: [], Format: CSV, Location: InMemoryFileIndex(1 paths)[file:/.../tags.csv], PartitionFilters: [], PushedFilters: [], ReadSchema: struct<tag:string>\n",
    "```\n"
   ]
  },
  {
   "cell_type": "markdown",
   "id": "d485911f-6fa9-4858-adf6-2d5f7a2cef2e",
   "metadata": {},
   "source": [
    "Spark optimizes both to identical plans / Inner workings for both seem identical in the optimized execution plan.  \n",
    "\n",
    "So we tend to prefer the one that is easier to read when debugging the code.  \n",
    "\n",
    "There may be a need for both distinct() and groupBy() in the same piece of code - for readability. We'll see that a few sections later.  \n",
    "\n",
    "*In some cases, I saw (and I am probably wrong here) that the groupBy() method seems marginally more expensive in terms of memory as compared to distinct(). Log a comment/ticket/PR if you have evidence, insights, ideas to the contrary/in-support.*"
   ]
  },
  {
   "cell_type": "markdown",
   "id": "b1b00207-fa2a-44a5-9812-d0e5149d6875",
   "metadata": {},
   "source": [
    "#### Sort lexically"
   ]
  },
  {
   "cell_type": "code",
   "execution_count": 20,
   "id": "818e3cab-e8be-4c05-bd66-214d8aa07b88",
   "metadata": {},
   "outputs": [],
   "source": [
    "# sort unique tags lexically\n",
    "# ignore case when sorting values\n",
    "distinct_tags1 = distinct_tags1.orderBy(col(\"lower tag\").asc())\n",
    "distinct_tags2 = distinct_tags2.orderBy(col(\"lower tag\").asc())"
   ]
  },
  {
   "cell_type": "code",
   "execution_count": 21,
   "id": "6278f106-0258-4036-aaf2-43c8f5913741",
   "metadata": {},
   "outputs": [
    {
     "name": "stdout",
     "output_type": "stream",
     "text": [
      "+-----------------------------------------------------------+\n",
      "|lower tag                                                  |\n",
      "+-----------------------------------------------------------+\n",
      "|a christmas carol                                          |\n",
      "|anti christmas                                             |\n",
      "|best christmas movie                                       |\n",
      "|christmas                                                  |\n",
      "|christmas bonus                                            |\n",
      "|christmas card                                             |\n",
      "|christmas carol                                            |\n",
      "|christmas england history                                  |\n",
      "|christmas eve                                              |\n",
      "|christmas gift                                             |\n",
      "|christmas holiday                                          |\n",
      "|christmas horror                                           |\n",
      "|christmas lights                                           |\n",
      "|christmas miracle                                          |\n",
      "|christmas morning                                          |\n",
      "|christmas movie                                            |\n",
      "|christmas music                                            |\n",
      "|christmas parade                                           |\n",
      "|christmas party                                            |\n",
      "|christmas present                                          |\n",
      "|christmas slasher                                          |\n",
      "|christmas songs                                            |\n",
      "|christmas special                                          |\n",
      "|christmas spirit                                           |\n",
      "|christmas story                                            |\n",
      "|christmas time                                             |\n",
      "|christmas tree                                             |\n",
      "|christmas tree dealer                                      |\n",
      "|christmas, dicken's                                        |\n",
      "|christmastime                                              |\n",
      "|classic christmas tale                                     |\n",
      "|father christmas                                           |\n",
      "|https://movielens.org/explore?tag=christmas&sortby=tagscore|\n",
      "|non-traditional christmas special                          |\n",
      "|saving christmas                                           |\n",
      "|see: merry christmas (joyeux noël)                         |\n",
      "+-----------------------------------------------------------+\n",
      "\n"
     ]
    }
   ],
   "source": [
    "distinct_tags1.filter(col(\"lower tag\").contains(\"christmas\")).show(50, False)"
   ]
  },
  {
   "cell_type": "code",
   "execution_count": 22,
   "id": "fac8759f-d0b7-4a2f-b28c-b4e1d04a7cfa",
   "metadata": {},
   "outputs": [
    {
     "name": "stdout",
     "output_type": "stream",
     "text": [
      "+-----------------------------------------------------------+-----+\n",
      "|lower tag                                                  |count|\n",
      "+-----------------------------------------------------------+-----+\n",
      "|a christmas carol                                          |1    |\n",
      "|anti christmas                                             |1    |\n",
      "|best christmas movie                                       |7    |\n",
      "|christmas                                                  |1162 |\n",
      "|christmas bonus                                            |1    |\n",
      "|christmas card                                             |2    |\n",
      "|christmas carol                                            |11   |\n",
      "|christmas england history                                  |1    |\n",
      "|christmas eve                                              |36   |\n",
      "|christmas gift                                             |5    |\n",
      "|christmas holiday                                          |4    |\n",
      "|christmas horror                                           |12   |\n",
      "|christmas lights                                           |4    |\n",
      "|christmas miracle                                          |1    |\n",
      "|christmas morning                                          |1    |\n",
      "|christmas movie                                            |18   |\n",
      "|christmas music                                            |1    |\n",
      "|christmas parade                                           |1    |\n",
      "|christmas party                                            |25   |\n",
      "|christmas present                                          |2    |\n",
      "|christmas slasher                                          |1    |\n",
      "|christmas songs                                            |1    |\n",
      "|christmas special                                          |6    |\n",
      "|christmas spirit                                           |5    |\n",
      "|christmas story                                            |1    |\n",
      "|christmas time                                             |4    |\n",
      "|christmas tree                                             |22   |\n",
      "|christmas tree dealer                                      |1    |\n",
      "|christmas, dicken's                                        |1    |\n",
      "|christmastime                                              |2    |\n",
      "|classic christmas tale                                     |5    |\n",
      "|father christmas                                           |3    |\n",
      "|https://movielens.org/explore?tag=christmas&sortby=tagscore|1    |\n",
      "|non-traditional christmas special                          |1    |\n",
      "|saving christmas                                           |3    |\n",
      "|see: merry christmas (joyeux noël)                         |1    |\n",
      "+-----------------------------------------------------------+-----+\n",
      "\n"
     ]
    }
   ],
   "source": [
    "distinct_tags2.filter(col(\"lower tag\").contains(\"christmas\")).show(50, False)"
   ]
  },
  {
   "cell_type": "markdown",
   "id": "cf07c11f-703d-4d86-a440-22345c8bb247",
   "metadata": {},
   "source": [
    "### Which movies have the most number of tags?  \n",
    "* List movieIds in order of # of tags associated  \n",
    "* Can we find out which movies have most # of *distinct* tags?  \n",
    "* *[optional]* Does the ```timestamp``` column have any impact on your report?  "
   ]
  },
  {
   "cell_type": "code",
   "execution_count": 23,
   "id": "b8bf136f-09dd-4d94-a98c-371ec4eb0ab8",
   "metadata": {},
   "outputs": [
    {
     "name": "stdout",
     "output_type": "stream",
     "text": [
      "+-------+-----+\n",
      "|movieId|count|\n",
      "+-------+-----+\n",
      "|    260| 6180|\n",
      "|    296| 4767|\n",
      "|  79132| 4767|\n",
      "| 109487| 3616|\n",
      "|   2959| 3612|\n",
      "|    318| 3597|\n",
      "|   2571| 3573|\n",
      "|    356| 2701|\n",
      "|   4226| 2601|\n",
      "|   7361| 2533|\n",
      "|    593| 2482|\n",
      "|   4878| 2417|\n",
      "|   4973| 2226|\n",
      "|  48780| 2126|\n",
      "| 115713| 2115|\n",
      "|  72998| 2105|\n",
      "|    541| 2081|\n",
      "|  58559| 1956|\n",
      "|     47| 1947|\n",
      "|   2858| 1904|\n",
      "+-------+-----+\n",
      "only showing top 20 rows\n",
      "\n"
     ]
    }
   ],
   "source": [
    "# movie IDs with most number of tags\n",
    "movies_by_tag_count = tags.groupBy(\"movieId\").count()\n",
    "movies_by_tag_count.orderBy(col(\"count\").desc()).show()"
   ]
  },
  {
   "cell_type": "markdown",
   "id": "c6112f6b-7112-4d75-b698-6e5e029aceab",
   "metadata": {},
   "source": [
    "These movies have thousands of tags??? that makes no sense... let's see what some of those are:"
   ]
  },
  {
   "cell_type": "code",
   "execution_count": 24,
   "id": "057e6d8d-fb25-4f21-a9d6-da49315b4fc2",
   "metadata": {},
   "outputs": [
    {
     "name": "stdout",
     "output_type": "stream",
     "text": [
      "+---------------+-----+\n",
      "|lowercase tag  |count|\n",
      "+---------------+-----+\n",
      "|sci-fi         |658  |\n",
      "|space          |302  |\n",
      "|classic        |273  |\n",
      "|science fiction|270  |\n",
      "|space adventure|263  |\n",
      "|classic sci-fi |232  |\n",
      "|action         |178  |\n",
      "|adventure      |160  |\n",
      "|fantasy        |150  |\n",
      "|star wars      |143  |\n",
      "|space opera    |139  |\n",
      "|harrison ford  |117  |\n",
      "|good vs evil   |115  |\n",
      "|epic           |112  |\n",
      "|space action   |104  |\n",
      "|space epic     |84   |\n",
      "|cult classic   |76   |\n",
      "|george lucas   |71   |\n",
      "|epic adventure |55   |\n",
      "|jedi           |55   |\n",
      "|scifi          |54   |\n",
      "|aliens         |53   |\n",
      "|futuristic     |51   |\n",
      "|scifi cult     |46   |\n",
      "|hero's journey |45   |\n",
      "+---------------+-----+\n",
      "only showing top 25 rows\n",
      "\n"
     ]
    }
   ],
   "source": [
    "tags.filter(col(\"movieId\") == 260).groupBy(\n",
    "    lower(col(\"tag\")).alias(\"lowercase tag\")\n",
    ").count().orderBy(col(\"count\").desc()).show(25, False)"
   ]
  },
  {
   "cell_type": "markdown",
   "id": "5372ad7d-9c57-460f-870c-b41d40fe3d32",
   "metadata": {},
   "source": [
    "Any guesses what this movie could be?\n",
    "Let's quickly load the movies data:"
   ]
  },
  {
   "cell_type": "code",
   "execution_count": 25,
   "id": "399d8630-5e1e-438f-8dc5-cc6e597ec21d",
   "metadata": {},
   "outputs": [],
   "source": [
    "file_path_movies = datalocation + \"movies.csv\"\n",
    "#\n",
    "schema_movies = StructType(\n",
    "    [\n",
    "        StructField(\"movieId\", StringType(), False),\n",
    "        StructField(\"title\", StringType(), False),\n",
    "        StructField(\"genres\", StringType(), True),\n",
    "    ]\n",
    ")\n",
    "#\n",
    "movies_raw = (\n",
    "    spark.read.format(\"csv\")\n",
    "    .option(\"encoding\", \"UTF-8\")\n",
    "    .option(\"header\", True)\n",
    "    .option(\"sep\", \",\")\n",
    "    .option(\"escape\", '\"')\n",
    "    .schema(schema_movies)\n",
    "    .load(file_path_movies)\n",
    ")"
   ]
  },
  {
   "cell_type": "code",
   "execution_count": 26,
   "id": "e5f2c628-92c5-4390-85c6-c3e65a099183",
   "metadata": {},
   "outputs": [
    {
     "name": "stdout",
     "output_type": "stream",
     "text": [
      "+-------+-----------------------------------------+-----------------------+\n",
      "|movieId|title                                    |genres                 |\n",
      "+-------+-----------------------------------------+-----------------------+\n",
      "|260    |Star Wars: Episode IV - A New Hope (1977)|Action|Adventure|Sci-Fi|\n",
      "+-------+-----------------------------------------+-----------------------+\n",
      "\n"
     ]
    }
   ],
   "source": [
    "movies_raw.filter(col(\"movieId\") == 260).show(1, False)"
   ]
  },
  {
   "cell_type": "markdown",
   "id": "560412c6-3ea9-49c7-aa24-6dd7df442912",
   "metadata": {},
   "source": [
    "No surprises there!"
   ]
  },
  {
   "cell_type": "markdown",
   "id": "590aa69c-f021-4afa-ae37-b07dec217cfe",
   "metadata": {},
   "source": [
    "### Which users have added the most number of tags?\n",
    "\n",
    "* List ```userIds``` in order of # of tags created\n",
    "* Can we find out which users have created most # of distinct tags?"
   ]
  },
  {
   "cell_type": "code",
   "execution_count": 27,
   "id": "7538cdfb-d7c1-4020-b825-c009ad4a295e",
   "metadata": {},
   "outputs": [
    {
     "name": "stdout",
     "output_type": "stream",
     "text": [
      "+------+------+\n",
      "|userId| count|\n",
      "+------+------+\n",
      "|  6550|183356|\n",
      "| 21096| 20317|\n",
      "| 62199| 13700|\n",
      "|160540| 12076|\n",
      "|155146| 11445|\n",
      "| 70092| 10582|\n",
      "|131347| 10195|\n",
      "| 14116| 10167|\n",
      "| 31047|  8463|\n",
      "|141263|  7114|\n",
      "| 64333|  6944|\n",
      "| 47969|  6599|\n",
      "| 15204|  6426|\n",
      "| 84824|  6209|\n",
      "|123527|  6005|\n",
      "|148457|  5960|\n",
      "| 19346|  5919|\n",
      "|  6285|  5837|\n",
      "| 96795|  5334|\n",
      "| 44444|  4941|\n",
      "+------+------+\n",
      "only showing top 20 rows\n",
      "\n"
     ]
    }
   ],
   "source": [
    "# users who have created most tags\n",
    "users_by_count_of_tag_entries = tags.groupBy(\"userId\").count()\n",
    "users_by_count_of_tag_entries.orderBy(col(\"count\").desc()).show()"
   ]
  },
  {
   "cell_type": "markdown",
   "id": "dd276cb6-5a69-4d18-a7f4-202c7a73a321",
   "metadata": {},
   "source": [
    "Can we find out which users have created most # of distinct tags?"
   ]
  },
  {
   "cell_type": "code",
   "execution_count": 28,
   "id": "68f07de1-dc97-4b09-b38f-b6f02ed03715",
   "metadata": {},
   "outputs": [
    {
     "name": "stdout",
     "output_type": "stream",
     "text": [
      "+------+-----+\n",
      "|userId|count|\n",
      "+------+-----+\n",
      "|  6550|20765|\n",
      "| 31047| 5574|\n",
      "|155146| 5252|\n",
      "| 62199| 4959|\n",
      "|131347| 4834|\n",
      "|160540| 4783|\n",
      "|148457| 3550|\n",
      "| 47969| 3042|\n",
      "| 14116| 2913|\n",
      "|141263| 2837|\n",
      "| 19346| 2808|\n",
      "| 96795| 2304|\n",
      "| 64333| 2268|\n",
      "| 15204| 2190|\n",
      "| 44444| 2156|\n",
      "|105728| 2150|\n",
      "|123527| 2131|\n",
      "| 34047| 2103|\n",
      "| 56238| 2018|\n",
      "| 83426| 1942|\n",
      "+------+-----+\n",
      "only showing top 20 rows\n",
      "\n"
     ]
    }
   ],
   "source": [
    "# isolate userId and tags and identify distinct pairs\n",
    "distinct_tags_by_user = tags.select(\"userId\", \"tag\").distinct()\n",
    "# count distinct tags by user\n",
    "count_distinct_tags_by_user = distinct_tags_by_user.groupBy(\"userId\").count()\n",
    "# list count of distinct tags by user\n",
    "count_distinct_tags_by_user.orderBy(col(\"count\").desc()).show()"
   ]
  },
  {
   "cell_type": "markdown",
   "id": "40146568-20c3-4ba8-b961-0098a6ed8e1c",
   "metadata": {},
   "source": [
    "*Holy Sith!* \n",
    "\n",
    "*183356* tags, *20765* unique tags - UserId ```6550``` is either a beast or probably a bot!  \n",
    "\n",
    "In most cases we may want to treat this one as an outlier, further analysis may be needed before taking that decision, but it's good to know 6550 exists.  "
   ]
  },
  {
   "cell_type": "code",
   "execution_count": 29,
   "id": "c9eedc69-b0ab-4c58-8eb7-8e8b98bb290e",
   "metadata": {},
   "outputs": [
    {
     "name": "stdout",
     "output_type": "stream",
     "text": [
      "+------+---------------+\n",
      "|userId|tag            |\n",
      "+------+---------------+\n",
      "|6550  |007            |\n",
      "|6550  |077            |\n",
      "|6550  |10th century   |\n",
      "|6550  |11th century   |\n",
      "|6550  |12th century   |\n",
      "|6550  |13th century   |\n",
      "|6550  |14th century   |\n",
      "|6550  |15th century   |\n",
      "|6550  |16th century   |\n",
      "|6550  |17th century   |\n",
      "|6550  |1860s          |\n",
      "|6550  |18th century   |\n",
      "|6550  |1910s          |\n",
      "|6550  |1920s          |\n",
      "|6550  |1930s          |\n",
      "|6550  |1940s          |\n",
      "|6550  |1950s          |\n",
      "|6550  |1960s          |\n",
      "|6550  |1970s          |\n",
      "|6550  |1980s          |\n",
      "|6550  |1990s          |\n",
      "|6550  |19th century   |\n",
      "|6550  |1st century    |\n",
      "|6550  |2040s          |\n",
      "|6550  |20th century   |\n",
      "|6550  |21st century   |\n",
      "|6550  |25th century   |\n",
      "|6550  |2nd century    |\n",
      "|6550  |3 dimensional  |\n",
      "|6550  |360 video      |\n",
      "|6550  |3d             |\n",
      "|6550  |47 ronin       |\n",
      "|6550  |80's           |\n",
      "|6550  |80's style     |\n",
      "|6550  |Afghanistan    |\n",
      "|6550  |Africa         |\n",
      "|6550  |Agent Coulson  |\n",
      "|6550  |Area 51        |\n",
      "|6550  |Australian     |\n",
      "|6550  |B Movie        |\n",
      "|6550  |B-movie        |\n",
      "|6550  |Bane           |\n",
      "|6550  |Batgirl        |\n",
      "|6550  |Batman         |\n",
      "|6550  |Black and white|\n",
      "|6550  |Catwoman       |\n",
      "|6550  |Chucky         |\n",
      "|6550  |Criterion      |\n",
      "|6550  |DC Universe    |\n",
      "|6550  |Dario Argento  |\n",
      "+------+---------------+\n",
      "only showing top 50 rows\n",
      "\n"
     ]
    }
   ],
   "source": [
    "distinct_tags_by_user.filter(col(\"userId\") == \"6550\").orderBy(col(\"tag\")).show(\n",
    "    50, False\n",
    ")"
   ]
  },
  {
   "cell_type": "markdown",
   "id": "21d190c2-34a8-4372-a718-ae110a8cde6d",
   "metadata": {},
   "source": [
    "Yeah! I'd say 6550 is some automated tagging mechanism. "
   ]
  },
  {
   "cell_type": "markdown",
   "id": "df22ed59-5b7a-4671-a860-06d8e57dfe5c",
   "metadata": {},
   "source": [
    "### Which users have tagged the most number of movies?\n",
    "* Like before, can we find out which users have tagged the most # of *distinct* movies? Does this question make sense in the context of users?\n",
    "* *[optional]* Does the ```timestamp``` column have any impact on your report?"
   ]
  },
  {
   "cell_type": "code",
   "execution_count": 30,
   "id": "8153c9cf-c8e2-4e45-b8aa-24f5754c2018",
   "metadata": {},
   "outputs": [
    {
     "name": "stdout",
     "output_type": "stream",
     "text": [
      "+------+-----+\n",
      "|userId|count|\n",
      "+------+-----+\n",
      "|  6550|37913|\n",
      "| 62199|10840|\n",
      "| 21096| 7547|\n",
      "| 70092| 7171|\n",
      "| 64333| 2615|\n",
      "| 14116| 2361|\n",
      "| 72360| 2073|\n",
      "|125054| 1712|\n",
      "|131347| 1602|\n",
      "| 34164| 1526|\n",
      "+------+-----+\n",
      "only showing top 10 rows\n",
      "\n"
     ]
    }
   ],
   "source": [
    "# which users have tagged the most number of movies?\n",
    "\n",
    "# approach:\n",
    "# create a df that has only users and movies\n",
    "# this df may have multiple rows for\n",
    "# same userId and movieId as each user has given many tags to each movie\n",
    "# so only pick distinct records.\n",
    "# then use groupBy and count as ususal\n",
    "\n",
    "users_and_movies_in_tags = tags.select(\"userId\", \"movieId\").distinct()\n",
    "\n",
    "users_and_movies_in_tags_count = (\n",
    "    users_and_movies_in_tags.groupBy(\"userId\").count().orderBy(col(\"count\").desc())\n",
    ")\n",
    "\n",
    "users_and_movies_in_tags_count.show(10)"
   ]
  },
  {
   "cell_type": "code",
   "execution_count": 31,
   "id": "b999d152-38cf-4ce5-b99b-30b53869754c",
   "metadata": {},
   "outputs": [
    {
     "name": "stdout",
     "output_type": "stream",
     "text": [
      "+-------+-----+\n",
      "|movieId|count|\n",
      "+-------+-----+\n",
      "|   2069|    1|\n",
      "|   3959|    1|\n",
      "|  26112|    1|\n",
      "|  60336|    1|\n",
      "|   1436|    1|\n",
      "|   3210|    1|\n",
      "|   2904|    1|\n",
      "|  35640|    1|\n",
      "|   7252|    1|\n",
      "|   2136|    1|\n",
      "+-------+-----+\n",
      "only showing top 10 rows\n",
      "\n"
     ]
    }
   ],
   "source": [
    "# check:\n",
    "# filter for any one userId, check that all movies occur only once\n",
    "users_and_movies_in_tags.filter(col(\"userId\") == 6550).groupBy(\n",
    "    \"movieId\"\n",
    ").count().orderBy(col(\"count\").desc()).show(10)"
   ]
  },
  {
   "cell_type": "markdown",
   "id": "cccb047f-0b4b-4bff-a4a9-58b4dba2ba41",
   "metadata": {},
   "source": [
    "### Tagging activity related analysis\n",
    "\n",
    "* Convert time-stamps to Day-Month-Year.\n",
    "* Find the date range (min-date, max-date) during which the tagging activity took place.\n",
    "* Plot number of movies tagged per day during the date range"
   ]
  },
  {
   "cell_type": "code",
   "execution_count": 32,
   "id": "96e10998-d951-489c-854c-00476f0b0d47",
   "metadata": {},
   "outputs": [
    {
     "name": "stdout",
     "output_type": "stream",
     "text": [
      "+------+-------+-----------------------+-----------------------+----------+-------------------+------------+\n",
      "|userId|movieId|tag                    |lower tag              |timestamp |datetime           |tagging date|\n",
      "+------+-------+-----------------------+-----------------------+----------+-------------------+------------+\n",
      "|3     |260    |classic                |classic                |1439472355|2015-08-13 18:55:55|2015-08-13  |\n",
      "|3     |260    |sci-fi                 |sci-fi                 |1439472256|2015-08-13 18:54:16|2015-08-13  |\n",
      "|4     |1732   |dark comedy            |dark comedy            |1573943598|2019-11-17 04:03:18|2019-11-17  |\n",
      "|4     |1732   |great dialogue         |great dialogue         |1573943604|2019-11-17 04:03:24|2019-11-17  |\n",
      "|4     |7569   |so bad it's good       |so bad it's good       |1573943455|2019-11-17 04:00:55|2019-11-17  |\n",
      "|4     |44665  |unreliable narrators   |unreliable narrators   |1573943619|2019-11-17 04:03:39|2019-11-17  |\n",
      "|4     |115569 |tense                  |tense                  |1573943077|2019-11-17 03:54:37|2019-11-17  |\n",
      "|4     |115713 |artificial intelligence|artificial intelligence|1573942979|2019-11-17 03:52:59|2019-11-17  |\n",
      "|4     |115713 |philosophical          |philosophical          |1573943033|2019-11-17 03:53:53|2019-11-17  |\n",
      "|4     |115713 |tense                  |tense                  |1573943042|2019-11-17 03:54:02|2019-11-17  |\n",
      "+------+-------+-----------------------+-----------------------+----------+-------------------+------------+\n",
      "only showing top 10 rows\n",
      "\n"
     ]
    }
   ],
   "source": [
    "# code cleanup update - all sql.functions imported at the top of this notebook\n",
    "# from pyspark.sql.functions import from_unixtime, to_date\n",
    "\n",
    "# convert unix epoch timestamp to date-time style timestamp\n",
    "tags = tags.withColumn(\"datetime\", from_unixtime(col(\"timestamp\")))\n",
    "# extract date from date-time timestamp\n",
    "tags = tags.withColumn(\"tagging date\", to_date(col(\"datetime\")))\n",
    "tags.show(10, False)"
   ]
  },
  {
   "cell_type": "code",
   "execution_count": 33,
   "id": "f021706e-0fd1-4887-bfe2-9c1f25913b6f",
   "metadata": {},
   "outputs": [
    {
     "name": "stdout",
     "output_type": "stream",
     "text": [
      "+------------+-----+\n",
      "|tagging date|count|\n",
      "+------------+-----+\n",
      "|2018-06-10  |26871|\n",
      "|2018-05-27  |26644|\n",
      "|2018-05-28  |21775|\n",
      "|2018-05-18  |20808|\n",
      "|2018-05-25  |18488|\n",
      "+------------+-----+\n",
      "only showing top 5 rows\n",
      "\n"
     ]
    }
   ],
   "source": [
    "tagging_activity_by_date = tags.groupBy(col(\"tagging date\")).count()\n",
    "#\n",
    "tagging_activity_by_date.orderBy(col(\"count\").desc()).show(5, False)"
   ]
  },
  {
   "cell_type": "markdown",
   "id": "86d1a71a-5290-4465-8807-25cfe1e93e96",
   "metadata": {},
   "source": [
    "#### date range during which the tagging activity took place\n",
    "\n",
    "* (min-date, max-date) "
   ]
  },
  {
   "cell_type": "code",
   "execution_count": 34,
   "id": "ed2fdb7e-6036-473c-8fd4-36a3575cb0c2",
   "metadata": {},
   "outputs": [
    {
     "name": "stdout",
     "output_type": "stream",
     "text": [
      "+-----------------+\n",
      "|min(tagging date)|\n",
      "+-----------------+\n",
      "|       2005-12-24|\n",
      "+-----------------+\n",
      "\n",
      "+-----------------+\n",
      "|max(tagging date)|\n",
      "+-----------------+\n",
      "|       2019-11-21|\n",
      "+-----------------+\n",
      "\n",
      "+-------+-----------------+\n",
      "|summary|            count|\n",
      "+-------+-----------------+\n",
      "|  count|             5056|\n",
      "|   mean|           216.25|\n",
      "| stddev|848.8262672935349|\n",
      "|    min|                1|\n",
      "|    25%|               61|\n",
      "|    50%|              120|\n",
      "|    75%|              224|\n",
      "|    max|            26871|\n",
      "+-------+-----------------+\n",
      "\n"
     ]
    }
   ],
   "source": [
    "# code cleanup update - all sql.functions imported at the top of this notebook\n",
    "# from pyspark.sql.functions import avg, max, min\n",
    "\n",
    "#\n",
    "tagging_min_date = tagging_activity_by_date.select(min(col(\"tagging date\")))\n",
    "tagging_max_date = tagging_activity_by_date.select(max(col(\"tagging date\")))\n",
    "#\n",
    "tagging_min_date.show()\n",
    "tagging_max_date.show()\n",
    "# tagging_activity_by_date.select(min(col('count'))).show()\n",
    "# tagging_activity_by_date.select(max(col('count'))).show()\n",
    "# tagging_activity_by_date.select(avg(col('count'))).show()\n",
    "tagging_activity_by_date.summary().show()"
   ]
  },
  {
   "cell_type": "code",
   "execution_count": 35,
   "id": "d452af75-7e93-46c0-abe6-594d2f78d32b",
   "metadata": {},
   "outputs": [],
   "source": [
    "# setup matplotlib before starting plotting\n",
    "import matplotlib.pyplot as plt\n",
    "\n",
    "# jupyter mpl magic\n",
    "%matplotlib inline\n",
    "\n",
    "# note: in case you want to use the widget or notebook magic:\n",
    "# ensure that ipympl is also installed.\n",
    "# there may be other steps involved as well\n",
    "# for e.g. widget works based on nodeJS, so you'll have to config/enable that too"
   ]
  },
  {
   "cell_type": "code",
   "execution_count": 36,
   "id": "ce39b905-f5ad-4a4c-88ee-91deb654609f",
   "metadata": {},
   "outputs": [],
   "source": [
    "# # determine the X and Y lists for plotting.\n",
    "# # converting a spark dataframe column to list:\n",
    "# # spark.catalog.clearCache()\n",
    "# tagging_activity_x = (\n",
    "#     tagging_activity_by_date.select(col(\"tagging date\"))\n",
    "#     .rdd.flatMap(lambda x: x)\n",
    "#     .collect()\n",
    "# )\n",
    "\n",
    "# tagging_activity_y = (\n",
    "#     tagging_activity_by_date.select(col(\"count\")).rdd.flatMap(lambda x: x).collect()\n",
    "# )"
   ]
  },
  {
   "cell_type": "code",
   "execution_count": 37,
   "id": "ec4e014c-b42b-408b-93bb-d57feffc6930",
   "metadata": {},
   "outputs": [],
   "source": [
    "# plt.figure(figsize=(18, 6))\n",
    "# plt.bar(tagging_activity_x, tagging_activity_y)\n",
    "# # Don't need to skew the graph with some really high counts\n",
    "# # limit to 1500\n",
    "# ax = plt.gca()\n",
    "# ax.set_ylim([0, 1500])\n",
    "# plt.title(\"count of tags by date\")\n",
    "# plt.xlabel(\"date\")\n",
    "# plt.ylabel(\"count\")\n",
    "# plt.show()"
   ]
  },
  {
   "cell_type": "markdown",
   "id": "3c5d9a41-8ae9-4ef6-8ba2-cc2e05dfb9f6",
   "metadata": {},
   "source": [
    "Seems like the activity peaked extraordinarily around May/June 2018"
   ]
  },
  {
   "cell_type": "markdown",
   "id": "0bf6e5fa-deb0-4898-ab38-88ecc94d9a0b",
   "metadata": {},
   "source": [
    "### Daily active users during the tagging activity.\n",
    "\n",
    "* Plot number of users who tagged at least one movie during the tagging activity date range"
   ]
  },
  {
   "cell_type": "code",
   "execution_count": 38,
   "id": "f80d60bf-0ee8-456b-810c-21098f909ba1",
   "metadata": {},
   "outputs": [
    {
     "name": "stdout",
     "output_type": "stream",
     "text": [
      "+------------+-----+\n",
      "|tagging date|count|\n",
      "+------------+-----+\n",
      "|  2015-08-17|  180|\n",
      "|  2018-05-06|   87|\n",
      "|  2018-05-05|   78|\n",
      "|  2018-05-07|   71|\n",
      "|  2015-07-27|   64|\n",
      "+------------+-----+\n",
      "only showing top 5 rows\n",
      "\n",
      "+-------+-----------------+\n",
      "|summary|            count|\n",
      "+-------+-----------------+\n",
      "|  count|             5056|\n",
      "|   mean|16.48378164556962|\n",
      "| stddev|9.770346849818784|\n",
      "|    min|                1|\n",
      "|    25%|               10|\n",
      "|    50%|               15|\n",
      "|    75%|               21|\n",
      "|    max|              180|\n",
      "+-------+-----------------+\n",
      "\n"
     ]
    }
   ],
   "source": [
    "distinct_users_doing_tagging_by_date = (\n",
    "    tags.select(\"userId\", \"tagging date\").distinct().groupBy(\"tagging date\").count()\n",
    ")\n",
    "#\n",
    "distinct_users_doing_tagging_by_date.orderBy(col(\"count\").desc()).show(5)\n",
    "distinct_users_doing_tagging_by_date.summary().show()"
   ]
  },
  {
   "cell_type": "code",
   "execution_count": 39,
   "id": "c2a30e22-b94f-42c8-ba40-f87f2c4b5314",
   "metadata": {},
   "outputs": [],
   "source": [
    "# like before, we need to determine X and Y lists.\n",
    "\n",
    "distinct_users_doing_tagging_by_date_x = (\n",
    "    distinct_users_doing_tagging_by_date.select(col(\"tagging date\"))\n",
    "    .rdd.flatMap(lambda x: x)\n",
    "    .collect()\n",
    ")\n",
    "\n",
    "distinct_users_doing_tagging_by_date_y = (\n",
    "    distinct_users_doing_tagging_by_date.select(col(\"count\"))\n",
    "    .rdd.flatMap(lambda x: x)\n",
    "    .collect()\n",
    ")"
   ]
  },
  {
   "cell_type": "code",
   "execution_count": 40,
   "id": "4e438bb5-82b9-4420-a5cb-854bfa63f65e",
   "metadata": {},
   "outputs": [
    {
     "data": {
      "image/png": "[encoded data removed]",
      "text/plain": [
       "<Figure size 1800x500 with 1 Axes>"
      ]
     },
     "metadata": {},
     "output_type": "display_data"
    }
   ],
   "source": [
    "plt.figure(figsize=(18, 5))\n",
    "plt.bar(distinct_users_doing_tagging_by_date_x, distinct_users_doing_tagging_by_date_y)\n",
    "# limit the y axis, some observations may go beyond the ceiling\n",
    "ax = plt.gca()\n",
    "ax.set_ylim([0, 50])\n",
    "plt.title(\"Active users by date\")\n",
    "plt.xlabel(\"date\")\n",
    "plt.ylabel(\"count\")\n",
    "plt.show()"
   ]
  },
  {
   "cell_type": "markdown",
   "id": "2e7759fb-b3f8-4ab9-8266-6da2ecf60fd1",
   "metadata": {},
   "source": [
    "Seems like while there were peaks and troughs, but visually, we don't see too much variation in the daily active users"
   ]
  },
  {
   "cell_type": "markdown",
   "id": "16ab200a-15e3-4c50-8f4e-273a5a1cec16",
   "metadata": {},
   "source": [
    "# Clear cache and stop the spark cluster"
   ]
  },
  {
   "cell_type": "code",
   "execution_count": 41,
   "id": "af5974e7-f1a1-4cde-a3e8-67be94fa1c08",
   "metadata": {},
   "outputs": [],
   "source": [
    "# clear cache\n",
    "spark.catalog.clearCache()"
   ]
  },
  {
   "cell_type": "code",
   "execution_count": 42,
   "id": "31a5e020-a4ad-450a-9be4-8ef38daf08f3",
   "metadata": {},
   "outputs": [],
   "source": [
    "# stop spark\n",
    "spark.stop()"
   ]
  },
  {
   "cell_type": "markdown",
   "id": "4716527d-c142-4bb8-a548-ce91c5847297",
   "metadata": {},
   "source": [
    "# Insights"
   ]
  },
  {
   "cell_type": "markdown",
   "id": "0429a8dc-13dc-404e-9d59-fdcc8e05bcf8",
   "metadata": {},
   "source": [
    "What have we learned from working on Problem Set 1?\n",
    "\n",
    "1. Try to get a specific schema\n",
    "1. Clean up data before analysis or aggregation\n",
    "1. Clearly document weather you need case sensitive or case insensitive comparisions\n",
    "1. Use ```df.withColumn``` to create new columns\n",
    "1. ```col().contains()``` is like the ```LIKE``` clause in SQL, partial matches etc.\n",
    "1. Spark Columns: Only use literal name where it's trivial, otherwise prefer ```col('name')```\n",
    "1. ```distinct()``` vs ```groupBy()```\n",
    "1. To convert a column in a spark data frame to a list (for plotting data or other uses) you isolate the column, convert to rdd, flatmap, collect.\n",
    "  \n",
    "1. and another thing... use ```spark.catalog.clearCache()``` to clear the cache"
   ]
  },
  {
   "cell_type": "markdown",
   "id": "b32d2cb1-3cb6-44ed-92ab-1799c58d7912",
   "metadata": {},
   "source": [
    "# Next"
   ]
  },
  {
   "cell_type": "markdown",
   "id": "84836b3c-241f-4267-a6d5-f73cd1e9b8a2",
   "metadata": {},
   "source": [
    "We continue our data analysis exercises with the movies.csv data."
   ]
  }
 ],
 "metadata": {
  "kernelspec": {
   "display_name": "Python 3 (ipykernel)",
   "language": "python",
   "name": "python3"
  },
  "language_info": {
   "codemirror_mode": {
    "name": "ipython",
    "version": 3
   },
   "file_extension": ".py",
   "mimetype": "text/x-python",
   "name": "python",
   "nbconvert_exporter": "python",
   "pygments_lexer": "ipython3",
   "version": "3.11.7"
  }
 },
 "nbformat": 4,
 "nbformat_minor": 5
}
